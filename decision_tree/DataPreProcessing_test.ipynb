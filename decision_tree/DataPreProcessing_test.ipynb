{
 "cells": [
  {
   "cell_type": "markdown",
   "metadata": {},
   "source": [
    "# Data Pre-Processing"
   ]
  },
  {
   "cell_type": "markdown",
   "metadata": {},
   "source": [
    "This notebook is to run the data pre-processing as described in the progress report.\n",
    "https://docs.google.com/presentation/d/1PXPFEvt1X1ZZcwDqsMTOGpfHNX_rQHvGJvN-3QbUprI/edit?ts=605064b2#slide=id.p"
   ]
  },
  {
   "cell_type": "code",
   "execution_count": 1,
   "metadata": {},
   "outputs": [],
   "source": [
    "import pandas as pd\n",
    "import numpy as np\n",
    "import matplotlib\n",
    "import matplotlib.pyplot as plt\n",
    "\n",
    "%matplotlib inline"
   ]
  },
  {
   "cell_type": "code",
   "execution_count": 2,
   "metadata": {},
   "outputs": [
    {
     "data": {
      "text/html": [
       "<div>\n",
       "<style scoped>\n",
       "    .dataframe tbody tr th:only-of-type {\n",
       "        vertical-align: middle;\n",
       "    }\n",
       "\n",
       "    .dataframe tbody tr th {\n",
       "        vertical-align: top;\n",
       "    }\n",
       "\n",
       "    .dataframe thead th {\n",
       "        text-align: right;\n",
       "    }\n",
       "</style>\n",
       "<table border=\"1\" class=\"dataframe\">\n",
       "  <thead>\n",
       "    <tr style=\"text-align: right;\">\n",
       "      <th></th>\n",
       "      <th>month</th>\n",
       "      <th>town</th>\n",
       "      <th>flat_type</th>\n",
       "      <th>block</th>\n",
       "      <th>street_name</th>\n",
       "      <th>storey_range</th>\n",
       "      <th>floor_area_sqm</th>\n",
       "      <th>flat_model</th>\n",
       "      <th>eco_category</th>\n",
       "      <th>lease_commence_date</th>\n",
       "      <th>latitude</th>\n",
       "      <th>longitude</th>\n",
       "      <th>elevation</th>\n",
       "      <th>subzone</th>\n",
       "      <th>planning_area</th>\n",
       "      <th>region</th>\n",
       "    </tr>\n",
       "  </thead>\n",
       "  <tbody>\n",
       "    <tr>\n",
       "      <th>0</th>\n",
       "      <td>2004-01</td>\n",
       "      <td>bukit batok</td>\n",
       "      <td>4 room</td>\n",
       "      <td>186</td>\n",
       "      <td>bukit batok west avenue 6</td>\n",
       "      <td>04 to 06</td>\n",
       "      <td>94.0</td>\n",
       "      <td>new generation</td>\n",
       "      <td>uncategorized</td>\n",
       "      <td>1989</td>\n",
       "      <td>1.346581</td>\n",
       "      <td>103.744085</td>\n",
       "      <td>0.0</td>\n",
       "      <td>bukit batok west</td>\n",
       "      <td>bukit batok</td>\n",
       "      <td>west region</td>\n",
       "    </tr>\n",
       "    <tr>\n",
       "      <th>1</th>\n",
       "      <td>2001-11</td>\n",
       "      <td>tampines</td>\n",
       "      <td>5 room</td>\n",
       "      <td>366</td>\n",
       "      <td>tampines street 34</td>\n",
       "      <td>04 to 06</td>\n",
       "      <td>122.0</td>\n",
       "      <td>improved</td>\n",
       "      <td>uncategorized</td>\n",
       "      <td>1997</td>\n",
       "      <td>1.357618</td>\n",
       "      <td>103.961379</td>\n",
       "      <td>0.0</td>\n",
       "      <td>tampines east</td>\n",
       "      <td>tampines</td>\n",
       "      <td>east region</td>\n",
       "    </tr>\n",
       "    <tr>\n",
       "      <th>2</th>\n",
       "      <td>2002-07</td>\n",
       "      <td>jurong east</td>\n",
       "      <td>3 room</td>\n",
       "      <td>206</td>\n",
       "      <td>jurong east street 21</td>\n",
       "      <td>01 to 03</td>\n",
       "      <td>67.0</td>\n",
       "      <td>new generation</td>\n",
       "      <td>uncategorized</td>\n",
       "      <td>1982</td>\n",
       "      <td>1.337804</td>\n",
       "      <td>103.741998</td>\n",
       "      <td>0.0</td>\n",
       "      <td>toh guan</td>\n",
       "      <td>jurong east</td>\n",
       "      <td>west region</td>\n",
       "    </tr>\n",
       "    <tr>\n",
       "      <th>3</th>\n",
       "      <td>2015-04</td>\n",
       "      <td>ang mo kio</td>\n",
       "      <td>3 room</td>\n",
       "      <td>180</td>\n",
       "      <td>Ang Mo Kio Avenue 5</td>\n",
       "      <td>04 to 06</td>\n",
       "      <td>82.0</td>\n",
       "      <td>new generation</td>\n",
       "      <td>uncategorized</td>\n",
       "      <td>1981</td>\n",
       "      <td>1.380084</td>\n",
       "      <td>103.849574</td>\n",
       "      <td>0.0</td>\n",
       "      <td>yio chu kang east</td>\n",
       "      <td>ang mo kio</td>\n",
       "      <td>north-east region</td>\n",
       "    </tr>\n",
       "    <tr>\n",
       "      <th>4</th>\n",
       "      <td>2004-04</td>\n",
       "      <td>clementi</td>\n",
       "      <td>5 room</td>\n",
       "      <td>356</td>\n",
       "      <td>clementi avenue 2</td>\n",
       "      <td>01 to 03</td>\n",
       "      <td>117.0</td>\n",
       "      <td>standard</td>\n",
       "      <td>uncategorized</td>\n",
       "      <td>1978</td>\n",
       "      <td>1.313960</td>\n",
       "      <td>103.769831</td>\n",
       "      <td>0.0</td>\n",
       "      <td>clementi north</td>\n",
       "      <td>clementi</td>\n",
       "      <td>west region</td>\n",
       "    </tr>\n",
       "  </tbody>\n",
       "</table>\n",
       "</div>"
      ],
      "text/plain": [
       "     month         town flat_type block                street_name  \\\n",
       "0  2004-01  bukit batok    4 room   186  bukit batok west avenue 6   \n",
       "1  2001-11     tampines    5 room   366         tampines street 34   \n",
       "2  2002-07  jurong east    3 room   206      jurong east street 21   \n",
       "3  2015-04   ang mo kio    3 room   180        Ang Mo Kio Avenue 5   \n",
       "4  2004-04     clementi    5 room   356          clementi avenue 2   \n",
       "\n",
       "  storey_range  floor_area_sqm      flat_model   eco_category  \\\n",
       "0     04 to 06            94.0  new generation  uncategorized   \n",
       "1     04 to 06           122.0        improved  uncategorized   \n",
       "2     01 to 03            67.0  new generation  uncategorized   \n",
       "3     04 to 06            82.0  new generation  uncategorized   \n",
       "4     01 to 03           117.0        standard  uncategorized   \n",
       "\n",
       "   lease_commence_date  latitude   longitude  elevation            subzone  \\\n",
       "0                 1989  1.346581  103.744085        0.0   bukit batok west   \n",
       "1                 1997  1.357618  103.961379        0.0      tampines east   \n",
       "2                 1982  1.337804  103.741998        0.0           toh guan   \n",
       "3                 1981  1.380084  103.849574        0.0  yio chu kang east   \n",
       "4                 1978  1.313960  103.769831        0.0     clementi north   \n",
       "\n",
       "  planning_area             region  \n",
       "0   bukit batok        west region  \n",
       "1      tampines        east region  \n",
       "2   jurong east        west region  \n",
       "3    ang mo kio  north-east region  \n",
       "4      clementi        west region  "
      ]
     },
     "execution_count": 2,
     "metadata": {},
     "output_type": "execute_result"
    }
   ],
   "source": [
    "df = pd.read_csv('test.csv')\n",
    "df.head()"
   ]
  },
  {
   "cell_type": "markdown",
   "metadata": {},
   "source": [
    "##Remove the following attributes\n",
    "* Town - because it duplicates with Planning Area\n",
    "* Block - useful geographical location information is already included in latitude and longitude\n",
    "* Street_name - same as ‘block’\n",
    "* Flat_model - we think it has no value\n",
    "* Eco_category - remove because all are uncategorised \n",
    "* Elevation- remove because all the same\n",
    "* Subzone -- highly overlap with Planning Area\n",
    "* Region -- remove because too little information\n"
   ]
  },
  {
   "cell_type": "code",
   "execution_count": 3,
   "metadata": {},
   "outputs": [
    {
     "data": {
      "text/html": [
       "<div>\n",
       "<style scoped>\n",
       "    .dataframe tbody tr th:only-of-type {\n",
       "        vertical-align: middle;\n",
       "    }\n",
       "\n",
       "    .dataframe tbody tr th {\n",
       "        vertical-align: top;\n",
       "    }\n",
       "\n",
       "    .dataframe thead th {\n",
       "        text-align: right;\n",
       "    }\n",
       "</style>\n",
       "<table border=\"1\" class=\"dataframe\">\n",
       "  <thead>\n",
       "    <tr style=\"text-align: right;\">\n",
       "      <th></th>\n",
       "      <th>month</th>\n",
       "      <th>flat_type</th>\n",
       "      <th>storey_range</th>\n",
       "      <th>floor_area_sqm</th>\n",
       "      <th>lease_commence_date</th>\n",
       "      <th>latitude</th>\n",
       "      <th>longitude</th>\n",
       "      <th>planning_area</th>\n",
       "    </tr>\n",
       "  </thead>\n",
       "  <tbody>\n",
       "    <tr>\n",
       "      <th>0</th>\n",
       "      <td>2004-01</td>\n",
       "      <td>4 room</td>\n",
       "      <td>04 to 06</td>\n",
       "      <td>94.0</td>\n",
       "      <td>1989</td>\n",
       "      <td>1.346581</td>\n",
       "      <td>103.744085</td>\n",
       "      <td>bukit batok</td>\n",
       "    </tr>\n",
       "    <tr>\n",
       "      <th>1</th>\n",
       "      <td>2001-11</td>\n",
       "      <td>5 room</td>\n",
       "      <td>04 to 06</td>\n",
       "      <td>122.0</td>\n",
       "      <td>1997</td>\n",
       "      <td>1.357618</td>\n",
       "      <td>103.961379</td>\n",
       "      <td>tampines</td>\n",
       "    </tr>\n",
       "    <tr>\n",
       "      <th>2</th>\n",
       "      <td>2002-07</td>\n",
       "      <td>3 room</td>\n",
       "      <td>01 to 03</td>\n",
       "      <td>67.0</td>\n",
       "      <td>1982</td>\n",
       "      <td>1.337804</td>\n",
       "      <td>103.741998</td>\n",
       "      <td>jurong east</td>\n",
       "    </tr>\n",
       "    <tr>\n",
       "      <th>3</th>\n",
       "      <td>2015-04</td>\n",
       "      <td>3 room</td>\n",
       "      <td>04 to 06</td>\n",
       "      <td>82.0</td>\n",
       "      <td>1981</td>\n",
       "      <td>1.380084</td>\n",
       "      <td>103.849574</td>\n",
       "      <td>ang mo kio</td>\n",
       "    </tr>\n",
       "    <tr>\n",
       "      <th>4</th>\n",
       "      <td>2004-04</td>\n",
       "      <td>5 room</td>\n",
       "      <td>01 to 03</td>\n",
       "      <td>117.0</td>\n",
       "      <td>1978</td>\n",
       "      <td>1.313960</td>\n",
       "      <td>103.769831</td>\n",
       "      <td>clementi</td>\n",
       "    </tr>\n",
       "  </tbody>\n",
       "</table>\n",
       "</div>"
      ],
      "text/plain": [
       "     month flat_type storey_range  floor_area_sqm  lease_commence_date  \\\n",
       "0  2004-01    4 room     04 to 06            94.0                 1989   \n",
       "1  2001-11    5 room     04 to 06           122.0                 1997   \n",
       "2  2002-07    3 room     01 to 03            67.0                 1982   \n",
       "3  2015-04    3 room     04 to 06            82.0                 1981   \n",
       "4  2004-04    5 room     01 to 03           117.0                 1978   \n",
       "\n",
       "   latitude   longitude planning_area  \n",
       "0  1.346581  103.744085   bukit batok  \n",
       "1  1.357618  103.961379      tampines  \n",
       "2  1.337804  103.741998   jurong east  \n",
       "3  1.380084  103.849574    ang mo kio  \n",
       "4  1.313960  103.769831      clementi  "
      ]
     },
     "execution_count": 3,
     "metadata": {},
     "output_type": "execute_result"
    }
   ],
   "source": [
    "df=df.drop(columns=[\"town\",\"block\",\"street_name\",\"flat_model\",\"eco_category\",\"elevation\",\"subzone\",\"region\"])\n",
    "df.head()"
   ]
  },
  {
   "cell_type": "markdown",
   "metadata": {},
   "source": [
    "## Clean dirty records"
   ]
  },
  {
   "cell_type": "code",
   "execution_count": 4,
   "metadata": {},
   "outputs": [
    {
     "data": {
      "text/plain": [
       "array(['2000-01', '2000-02', '2000-03', '2000-04', '2000-05', '2000-06',\n",
       "       '2000-07', '2000-08', '2000-09', '2000-10', '2000-11', '2000-12',\n",
       "       '2001-01', '2001-02', '2001-03', '2001-04', '2001-05', '2001-06',\n",
       "       '2001-07', '2001-08', '2001-09', '2001-10', '2001-11', '2001-12',\n",
       "       '2002-01', '2002-02', '2002-03', '2002-04', '2002-05', '2002-06',\n",
       "       '2002-07', '2002-08', '2002-09', '2002-10', '2002-11', '2002-12',\n",
       "       '2003-01', '2003-02', '2003-03', '2003-04', '2003-05', '2003-06',\n",
       "       '2003-07', '2003-08', '2003-09', '2003-10', '2003-11', '2003-12',\n",
       "       '2004-01', '2004-02', '2004-03', '2004-04', '2004-05', '2004-06',\n",
       "       '2004-07', '2004-08', '2004-09', '2004-10', '2004-11', '2004-12',\n",
       "       '2005-01', '2005-02', '2005-03', '2005-04', '2005-05', '2005-06',\n",
       "       '2005-07', '2005-08', '2005-09', '2005-10', '2005-11', '2005-12',\n",
       "       '2006-01', '2006-02', '2006-03', '2006-04', '2006-05', '2006-06',\n",
       "       '2006-07', '2006-08', '2006-09', '2006-10', '2006-11', '2006-12',\n",
       "       '2007-01', '2007-02', '2007-03', '2007-04', '2007-05', '2007-06',\n",
       "       '2007-07', '2007-08', '2007-09', '2007-10', '2007-11', '2007-12',\n",
       "       '2008-01', '2008-02', '2008-03', '2008-04', '2008-05', '2008-06',\n",
       "       '2008-07', '2008-08', '2008-09', '2008-10', '2008-11', '2008-12',\n",
       "       '2009-01', '2009-02', '2009-03', '2009-04', '2009-05', '2009-06',\n",
       "       '2009-07', '2009-08', '2009-09', '2009-10', '2009-11', '2009-12',\n",
       "       '2010-01', '2010-02', '2010-03', '2010-04', '2010-05', '2010-06',\n",
       "       '2010-07', '2010-08', '2010-09', '2010-10', '2010-11', '2010-12',\n",
       "       '2011-01', '2011-02', '2011-03', '2011-04', '2011-05', '2011-06',\n",
       "       '2011-07', '2011-08', '2011-09', '2011-10', '2011-11', '2011-12',\n",
       "       '2012-01', '2012-02', '2012-03', '2012-04', '2012-05', '2012-06',\n",
       "       '2012-07', '2012-08', '2012-09', '2012-10', '2012-11', '2012-12',\n",
       "       '2013-01', '2013-02', '2013-03', '2013-04', '2013-05', '2013-06',\n",
       "       '2013-07', '2013-08', '2013-09', '2013-10', '2013-11', '2013-12',\n",
       "       '2014-01', '2014-02', '2014-03', '2014-04', '2014-05', '2014-06',\n",
       "       '2014-07', '2014-08', '2014-09', '2014-10', '2014-11', '2014-12',\n",
       "       '2015-01', '2015-02', '2015-03', '2015-04', '2015-05', '2015-06',\n",
       "       '2015-07', '2015-08', '2015-09', '2015-10', '2015-11', '2015-12',\n",
       "       '2016-01', '2016-02', '2016-03', '2016-04', '2016-05', '2016-06',\n",
       "       '2016-07', '2016-08', '2016-09', '2016-10', '2016-11', '2016-12',\n",
       "       '2017-01', '2017-02', '2017-03', '2017-04', '2017-05', '2017-06',\n",
       "       '2017-07', '2017-08', '2017-09', '2017-10', '2017-11', '2017-12',\n",
       "       '2018-01', '2018-02', '2018-03', '2018-04', '2018-05', '2018-06',\n",
       "       '2018-07', '2018-08', '2018-09', '2018-10', '2018-11', '2018-12',\n",
       "       '2019-01', '2019-02', '2019-03', '2019-04', '2019-05', '2019-06',\n",
       "       '2019-07', '2019-08', '2019-09', '2019-10', '2019-11', '2019-12',\n",
       "       '2020-01', '2020-02', '2020-03', '2020-04', '2020-05', '2020-06',\n",
       "       '2020-07', '2020-08', '2020-09', '2020-10', '2020-11'],\n",
       "      dtype=object)"
      ]
     },
     "execution_count": 4,
     "metadata": {},
     "output_type": "execute_result"
    }
   ],
   "source": [
    "arr_month=df[\"month\"].unique()\n",
    "np.sort(arr_month)"
   ]
  },
  {
   "cell_type": "code",
   "execution_count": 5,
   "metadata": {},
   "outputs": [
    {
     "name": "stdout",
     "output_type": "stream",
     "text": [
      "Before, flat_type:\n",
      "['1 room' '1-room' '2 room' '2-room' '3 room' '3-room' '4 room' '4-room'\n",
      " '5 room' '5-room' 'executive' 'multi generation']\n"
     ]
    }
   ],
   "source": [
    "values=df[\"flat_type\"].unique()\n",
    "print(\"Before, flat_type:\")\n",
    "print(np.sort(values))"
   ]
  },
  {
   "cell_type": "code",
   "execution_count": 6,
   "metadata": {},
   "outputs": [],
   "source": [
    "df[\"flat_type\"]=df[\"flat_type\"].mask(df[\"flat_type\"]==\"5-room\", \"5 room\")\n",
    "df[\"flat_type\"]=df[\"flat_type\"].mask(df[\"flat_type\"]==\"4-room\", \"4 room\")\n",
    "df[\"flat_type\"]=df[\"flat_type\"].mask(df[\"flat_type\"]==\"3-room\", \"3 room\")\n",
    "df[\"flat_type\"]=df[\"flat_type\"].mask(df[\"flat_type\"]==\"2-room\", \"2 room\")\n",
    "df[\"flat_type\"]=df[\"flat_type\"].mask(df[\"flat_type\"]==\"1-room\", \"1 room\")\n",
    "\n",
    "df[\"flat_type\"]=df[\"flat_type\"].mask(df[\"flat_type\"]==\"5 room\", '5')\n",
    "df[\"flat_type\"]=df[\"flat_type\"].mask(df[\"flat_type\"]==\"4 room\", '4')\n",
    "df[\"flat_type\"]=df[\"flat_type\"].mask(df[\"flat_type\"]==\"3 room\", '3')\n",
    "df[\"flat_type\"]=df[\"flat_type\"].mask(df[\"flat_type\"]==\"2 room\", '2')\n",
    "df[\"flat_type\"]=df[\"flat_type\"].mask(df[\"flat_type\"]==\"1 room\", '1')\n",
    "df[\"flat_type\"]=df[\"flat_type\"].mask(df[\"flat_type\"]==\"executive\", 'e')\n",
    "df[\"flat_type\"]=df[\"flat_type\"].mask(df[\"flat_type\"]==\"multi generation\", 'm')\n"
   ]
  },
  {
   "cell_type": "code",
   "execution_count": 7,
   "metadata": {},
   "outputs": [
    {
     "name": "stdout",
     "output_type": "stream",
     "text": [
      "After, flat_type:\n",
      "['1' '2' '3' '4' '5' 'e' 'm']\n"
     ]
    }
   ],
   "source": [
    "values=df[\"flat_type\"].unique()\n",
    "print(\"After, flat_type:\")\n",
    "print(np.sort(values))"
   ]
  },
  {
   "cell_type": "code",
   "execution_count": 8,
   "metadata": {},
   "outputs": [
    {
     "name": "stdout",
     "output_type": "stream",
     "text": [
      "Before, storey_range:\n",
      "['01 to 03' '01 to 05' '04 to 06' '06 to 10' '07 to 09' '10 to 12'\n",
      " '11 to 15' '13 to 15' '16 to 18' '16 to 20' '19 to 21' '21 to 25'\n",
      " '22 to 24' '25 to 27' '26 to 30' '28 to 30' '31 to 33' '34 to 36'\n",
      " '36 to 40' '37 to 39' '40 to 42' '43 to 45' '46 to 48' '49 to 51']\n"
     ]
    }
   ],
   "source": [
    "values=df[\"storey_range\"].unique()\n",
    "print(\"Before, storey_range:\")\n",
    "print(np.sort(values))"
   ]
  },
  {
   "cell_type": "code",
   "execution_count": 9,
   "metadata": {},
   "outputs": [
    {
     "name": "stdout",
     "output_type": "stream",
     "text": [
      "After, storey_range:\n",
      "[0 1 2 3 4 5 6 7 8 9]\n"
     ]
    }
   ],
   "source": [
    "df[\"storey_range\"]=df[\"storey_range\"].mask(df[\"storey_range\"]==\"01 to 03\", 0)\n",
    "df[\"storey_range\"]=df[\"storey_range\"].mask(df[\"storey_range\"]==\"01 to 05\", 0)\n",
    "\n",
    "df[\"storey_range\"]=df[\"storey_range\"].mask(df[\"storey_range\"]==\"04 to 06\", 1)\n",
    "df[\"storey_range\"]=df[\"storey_range\"].mask(df[\"storey_range\"]==\"06 to 10\", 1)\n",
    "df[\"storey_range\"]=df[\"storey_range\"].mask(df[\"storey_range\"]==\"07 to 09\", 1)\n",
    "\n",
    "df[\"storey_range\"]=df[\"storey_range\"].mask(df[\"storey_range\"]==\"10 to 12\", 2)\n",
    "df[\"storey_range\"]=df[\"storey_range\"].mask(df[\"storey_range\"]==\"11 to 15\", 2)\n",
    "df[\"storey_range\"]=df[\"storey_range\"].mask(df[\"storey_range\"]==\"13 to 15\", 2)\n",
    "\n",
    "df[\"storey_range\"]=df[\"storey_range\"].mask(df[\"storey_range\"]==\"16 to 18\", 3)\n",
    "df[\"storey_range\"]=df[\"storey_range\"].mask(df[\"storey_range\"]==\"16 to 20\", 3)\n",
    "df[\"storey_range\"]=df[\"storey_range\"].mask(df[\"storey_range\"]==\"19 to 21\", 3)\n",
    "\n",
    "df[\"storey_range\"]=df[\"storey_range\"].mask(df[\"storey_range\"]==\"21 to 25\", 4)\n",
    "df[\"storey_range\"]=df[\"storey_range\"].mask(df[\"storey_range\"]==\"22 to 24\", 4)\n",
    "\n",
    "df[\"storey_range\"]=df[\"storey_range\"].mask(df[\"storey_range\"]==\"25 to 27\", 5)\n",
    "df[\"storey_range\"]=df[\"storey_range\"].mask(df[\"storey_range\"]==\"26 to 30\", 5)\n",
    "df[\"storey_range\"]=df[\"storey_range\"].mask(df[\"storey_range\"]==\"28 to 30\", 5)\n",
    "\n",
    "\n",
    "df[\"storey_range\"]=df[\"storey_range\"].mask(df[\"storey_range\"]==\"31 to 33\", 6)\n",
    "df[\"storey_range\"]=df[\"storey_range\"].mask(df[\"storey_range\"]==\"31 to 35\", 6)\n",
    "df[\"storey_range\"]=df[\"storey_range\"].mask(df[\"storey_range\"]==\"34 to 36\", 6)\n",
    "\n",
    "df[\"storey_range\"]=df[\"storey_range\"].mask(df[\"storey_range\"]==\"36 to 40\", 7)\n",
    "df[\"storey_range\"]=df[\"storey_range\"].mask(df[\"storey_range\"]==\"37 to 39\", 7)\n",
    "\n",
    "df[\"storey_range\"]=df[\"storey_range\"].mask(df[\"storey_range\"]==\"40 to 42\", 8)\n",
    "df[\"storey_range\"]=df[\"storey_range\"].mask(df[\"storey_range\"]==\"43 to 45\", 8)\n",
    "\n",
    "df[\"storey_range\"]=df[\"storey_range\"].mask(df[\"storey_range\"]==\"46 to 48\", 9)\n",
    "df[\"storey_range\"]=df[\"storey_range\"].mask(df[\"storey_range\"]==\"49 to 51\", 9)\n",
    "\n",
    "values=df[\"storey_range\"].unique()\n",
    "print(\"After, storey_range:\")\n",
    "print(np.sort(values))\n"
   ]
  },
  {
   "cell_type": "code",
   "execution_count": 10,
   "metadata": {},
   "outputs": [
    {
     "name": "stdout",
     "output_type": "stream",
     "text": [
      "floor_area_sqm:\n",
      "[ 31.   34.   35.   38.   39.   40.   41.   42.   43.   44.   45.   46.\n",
      "  47.   48.   49.   50.   51.   52.   53.   54.   55.   56.   57.   58.\n",
      "  59.   60.   60.3  61.   62.   63.   63.1  64.   65.   66.   67.   68.\n",
      "  69.   70.   71.   72.   73.   74.   75.   76.   77.   78.   79.   80.\n",
      "  81.   82.   83.   83.1  84.   85.   86.   87.   88.   88.1  89.   89.1\n",
      "  90.   91.   92.   93.   94.   95.   96.   97.   98.   99.  100.  101.\n",
      " 102.  103.  104.  105.  106.  107.  108.  109.  110.  111.  112.  113.\n",
      " 114.  115.  116.  117.  118.  119.  120.  121.  122.  123.  124.  125.\n",
      " 126.  127.  128.  129.  130.  131.  132.  133.  134.  135.  136.  137.\n",
      " 138.  139.  140.  141.  142.  143.  144.  145.  146.  147.  148.  149.\n",
      " 150.  151.  152.  153.  154.  155.  156.  157.  158.  159.  160.  161.\n",
      " 162.  163.  164.  165.  166.  168.  169.  170.  171.  172.  173.  174.\n",
      " 175.  176.  177.  179.  180.  181.  182.  183.  184.  186.  187.  188.\n",
      " 189.  192.  198.  199.  215.  222.  237.  239.  261.  266.  297. ]\n"
     ]
    }
   ],
   "source": [
    "values=df[\"floor_area_sqm\"].unique()\n",
    "print(\"floor_area_sqm:\")\n",
    "print(np.sort(values))"
   ]
  },
  {
   "cell_type": "code",
   "execution_count": 11,
   "metadata": {},
   "outputs": [
    {
     "name": "stdout",
     "output_type": "stream",
     "text": [
      "lease_commence_date:\n",
      "[1966 1967 1968 1969 1970 1971 1972 1973 1974 1975 1976 1977 1978 1979\n",
      " 1980 1981 1982 1983 1984 1985 1986 1987 1988 1989 1990 1991 1992 1993\n",
      " 1994 1995 1996 1997 1998 1999 2000 2001 2002 2003 2004 2005 2006 2007\n",
      " 2008 2009 2010 2011 2012 2013 2014 2015 2016 2017 2019]\n"
     ]
    }
   ],
   "source": [
    "values=df[\"lease_commence_date\"].unique()\n",
    "print(\"lease_commence_date:\")\n",
    "print(np.sort(values))"
   ]
  },
  {
   "cell_type": "code",
   "execution_count": 12,
   "metadata": {},
   "outputs": [
    {
     "name": "stdout",
     "output_type": "stream",
     "text": [
      "planning_area\n",
      "['ang mo kio' 'bedok' 'bishan' 'bukit batok' 'bukit merah' 'bukit panjang'\n",
      " 'bukit timah' 'changi' 'choa chu kang' 'clementi' 'downtown core'\n",
      " 'geylang' 'hougang' 'jurong east' 'jurong west' 'kallang' 'marine parade'\n",
      " 'novena' 'outram' 'pasir ris' 'punggol' 'queenstown' 'rochor' 'sembawang'\n",
      " 'sengkang' 'serangoon' 'sungei kadut' 'tampines' 'tanglin' 'toa payoh'\n",
      " 'woodlands' 'yishun']\n"
     ]
    }
   ],
   "source": [
    "values=df[\"planning_area\"].unique()\n",
    "print(\"planning_area\")\n",
    "print(np.sort(values))"
   ]
  },
  {
   "cell_type": "markdown",
   "metadata": {},
   "source": [
    "## Convert type to category for some columns\n",
    "* It seems to save some memory usage at least."
   ]
  },
  {
   "cell_type": "code",
   "execution_count": 13,
   "metadata": {},
   "outputs": [
    {
     "name": "stdout",
     "output_type": "stream",
     "text": [
      "<class 'pandas.core.frame.DataFrame'>\n",
      "RangeIndex: 107934 entries, 0 to 107933\n",
      "Data columns (total 8 columns):\n",
      " #   Column               Non-Null Count   Dtype   \n",
      "---  ------               --------------   -----   \n",
      " 0   month                107934 non-null  object  \n",
      " 1   flat_type            107934 non-null  category\n",
      " 2   storey_range         107934 non-null  category\n",
      " 3   floor_area_sqm       107934 non-null  float64 \n",
      " 4   lease_commence_date  107934 non-null  int64   \n",
      " 5   latitude             107934 non-null  float64 \n",
      " 6   longitude            107934 non-null  float64 \n",
      " 7   planning_area        107934 non-null  category\n",
      "dtypes: category(3), float64(3), int64(1), object(1)\n",
      "memory usage: 4.4+ MB\n"
     ]
    }
   ],
   "source": [
    "df[\"planning_area\"]=df[\"planning_area\"].astype('category')\n",
    "df[\"storey_range\"]=df[\"storey_range\"].astype('category')\n",
    "df[\"flat_type\"]=df[\"flat_type\"].astype('category')\n",
    "\n",
    "\n",
    "df.info()\n"
   ]
  },
  {
   "cell_type": "markdown",
   "metadata": {},
   "source": [
    "## Add new columns\n"
   ]
  },
  {
   "cell_type": "markdown",
   "metadata": {},
   "source": [
    "Add the following columns based on progress report:\n",
    "\n",
    "* Remaing lease - 99 minus (transaction year minus lease commencement year)\n",
    "* Near_school - if it is within 1 km of any primary school\n",
    "* Distance_MRT - distance to nearest MRT station, in meters.\n",
    "* Price_per_sqm - unit price/floor area\n",
    "\n",
    "Then remove the following columns because they are no longer needed:\n",
    "* lease_commence_date\n",
    "* latitude\n",
    "* longitude\n",
    "* resale_price\n"
   ]
  },
  {
   "cell_type": "code",
   "execution_count": 14,
   "metadata": {},
   "outputs": [
    {
     "data": {
      "text/html": [
       "<div>\n",
       "<style scoped>\n",
       "    .dataframe tbody tr th:only-of-type {\n",
       "        vertical-align: middle;\n",
       "    }\n",
       "\n",
       "    .dataframe tbody tr th {\n",
       "        vertical-align: top;\n",
       "    }\n",
       "\n",
       "    .dataframe thead th {\n",
       "        text-align: right;\n",
       "    }\n",
       "</style>\n",
       "<table border=\"1\" class=\"dataframe\">\n",
       "  <thead>\n",
       "    <tr style=\"text-align: right;\">\n",
       "      <th></th>\n",
       "      <th>month</th>\n",
       "      <th>flat_type</th>\n",
       "      <th>storey_range</th>\n",
       "      <th>floor_area_sqm</th>\n",
       "      <th>lease_commence_date</th>\n",
       "      <th>latitude</th>\n",
       "      <th>longitude</th>\n",
       "      <th>planning_area</th>\n",
       "    </tr>\n",
       "  </thead>\n",
       "  <tbody>\n",
       "    <tr>\n",
       "      <th>0</th>\n",
       "      <td>2004-01</td>\n",
       "      <td>4</td>\n",
       "      <td>1</td>\n",
       "      <td>94.0</td>\n",
       "      <td>1989</td>\n",
       "      <td>1.346581</td>\n",
       "      <td>103.744085</td>\n",
       "      <td>bukit batok</td>\n",
       "    </tr>\n",
       "    <tr>\n",
       "      <th>1</th>\n",
       "      <td>2001-11</td>\n",
       "      <td>5</td>\n",
       "      <td>1</td>\n",
       "      <td>122.0</td>\n",
       "      <td>1997</td>\n",
       "      <td>1.357618</td>\n",
       "      <td>103.961379</td>\n",
       "      <td>tampines</td>\n",
       "    </tr>\n",
       "    <tr>\n",
       "      <th>2</th>\n",
       "      <td>2002-07</td>\n",
       "      <td>3</td>\n",
       "      <td>0</td>\n",
       "      <td>67.0</td>\n",
       "      <td>1982</td>\n",
       "      <td>1.337804</td>\n",
       "      <td>103.741998</td>\n",
       "      <td>jurong east</td>\n",
       "    </tr>\n",
       "    <tr>\n",
       "      <th>3</th>\n",
       "      <td>2015-04</td>\n",
       "      <td>3</td>\n",
       "      <td>1</td>\n",
       "      <td>82.0</td>\n",
       "      <td>1981</td>\n",
       "      <td>1.380084</td>\n",
       "      <td>103.849574</td>\n",
       "      <td>ang mo kio</td>\n",
       "    </tr>\n",
       "    <tr>\n",
       "      <th>4</th>\n",
       "      <td>2004-04</td>\n",
       "      <td>5</td>\n",
       "      <td>0</td>\n",
       "      <td>117.0</td>\n",
       "      <td>1978</td>\n",
       "      <td>1.313960</td>\n",
       "      <td>103.769831</td>\n",
       "      <td>clementi</td>\n",
       "    </tr>\n",
       "  </tbody>\n",
       "</table>\n",
       "</div>"
      ],
      "text/plain": [
       "     month flat_type storey_range  floor_area_sqm  lease_commence_date  \\\n",
       "0  2004-01         4            1            94.0                 1989   \n",
       "1  2001-11         5            1           122.0                 1997   \n",
       "2  2002-07         3            0            67.0                 1982   \n",
       "3  2015-04         3            1            82.0                 1981   \n",
       "4  2004-04         5            0           117.0                 1978   \n",
       "\n",
       "   latitude   longitude planning_area  \n",
       "0  1.346581  103.744085   bukit batok  \n",
       "1  1.357618  103.961379      tampines  \n",
       "2  1.337804  103.741998   jurong east  \n",
       "3  1.380084  103.849574    ang mo kio  \n",
       "4  1.313960  103.769831      clementi  "
      ]
     },
     "execution_count": 14,
     "metadata": {},
     "output_type": "execute_result"
    }
   ],
   "source": [
    "df.head()"
   ]
  },
  {
   "cell_type": "code",
   "execution_count": 15,
   "metadata": {},
   "outputs": [],
   "source": [
    "df[\"year\"]=df[\"month\"].str[:4].astype(np.int64)\n",
    "df[\"remaining_lease\"]=99-(df[\"year\"]-df[\"lease_commence_date\"])\n"
   ]
  },
  {
   "cell_type": "markdown",
   "metadata": {},
   "source": [
    "MRT and primary school related:"
   ]
  },
  {
   "cell_type": "markdown",
   "metadata": {},
   "source": [
    "Creating column for nearest_mrt_distance."
   ]
  },
  {
   "cell_type": "code",
   "execution_count": 16,
   "metadata": {
    "scrolled": true
   },
   "outputs": [
    {
     "data": {
      "text/html": [
       "<div>\n",
       "<style scoped>\n",
       "    .dataframe tbody tr th:only-of-type {\n",
       "        vertical-align: middle;\n",
       "    }\n",
       "\n",
       "    .dataframe tbody tr th {\n",
       "        vertical-align: top;\n",
       "    }\n",
       "\n",
       "    .dataframe thead th {\n",
       "        text-align: right;\n",
       "    }\n",
       "</style>\n",
       "<table border=\"1\" class=\"dataframe\">\n",
       "  <thead>\n",
       "    <tr style=\"text-align: right;\">\n",
       "      <th></th>\n",
       "      <th>month</th>\n",
       "      <th>flat_type</th>\n",
       "      <th>storey_range</th>\n",
       "      <th>floor_area_sqm</th>\n",
       "      <th>lease_commence_date</th>\n",
       "      <th>latitude</th>\n",
       "      <th>longitude</th>\n",
       "      <th>planning_area</th>\n",
       "      <th>year</th>\n",
       "      <th>remaining_lease</th>\n",
       "      <th>nearest_mrt_distance</th>\n",
       "    </tr>\n",
       "  </thead>\n",
       "  <tbody>\n",
       "    <tr>\n",
       "      <th>0</th>\n",
       "      <td>2004-01</td>\n",
       "      <td>4</td>\n",
       "      <td>1</td>\n",
       "      <td>94.0</td>\n",
       "      <td>1989</td>\n",
       "      <td>1.346581</td>\n",
       "      <td>103.744085</td>\n",
       "      <td>bukit batok</td>\n",
       "      <td>2004</td>\n",
       "      <td>84</td>\n",
       "      <td>667.550041</td>\n",
       "    </tr>\n",
       "    <tr>\n",
       "      <th>1</th>\n",
       "      <td>2001-11</td>\n",
       "      <td>5</td>\n",
       "      <td>1</td>\n",
       "      <td>122.0</td>\n",
       "      <td>1997</td>\n",
       "      <td>1.357618</td>\n",
       "      <td>103.961379</td>\n",
       "      <td>tampines</td>\n",
       "      <td>2001</td>\n",
       "      <td>95</td>\n",
       "      <td>766.385760</td>\n",
       "    </tr>\n",
       "    <tr>\n",
       "      <th>2</th>\n",
       "      <td>2002-07</td>\n",
       "      <td>3</td>\n",
       "      <td>0</td>\n",
       "      <td>67.0</td>\n",
       "      <td>1982</td>\n",
       "      <td>1.337804</td>\n",
       "      <td>103.741998</td>\n",
       "      <td>jurong east</td>\n",
       "      <td>2002</td>\n",
       "      <td>79</td>\n",
       "      <td>518.257497</td>\n",
       "    </tr>\n",
       "    <tr>\n",
       "      <th>3</th>\n",
       "      <td>2015-04</td>\n",
       "      <td>3</td>\n",
       "      <td>1</td>\n",
       "      <td>82.0</td>\n",
       "      <td>1981</td>\n",
       "      <td>1.380084</td>\n",
       "      <td>103.849574</td>\n",
       "      <td>ang mo kio</td>\n",
       "      <td>2015</td>\n",
       "      <td>65</td>\n",
       "      <td>546.923279</td>\n",
       "    </tr>\n",
       "    <tr>\n",
       "      <th>4</th>\n",
       "      <td>2004-04</td>\n",
       "      <td>5</td>\n",
       "      <td>0</td>\n",
       "      <td>117.0</td>\n",
       "      <td>1978</td>\n",
       "      <td>1.313960</td>\n",
       "      <td>103.769831</td>\n",
       "      <td>clementi</td>\n",
       "      <td>2004</td>\n",
       "      <td>73</td>\n",
       "      <td>515.878471</td>\n",
       "    </tr>\n",
       "  </tbody>\n",
       "</table>\n",
       "</div>"
      ],
      "text/plain": [
       "     month flat_type storey_range  floor_area_sqm  lease_commence_date  \\\n",
       "0  2004-01         4            1            94.0                 1989   \n",
       "1  2001-11         5            1           122.0                 1997   \n",
       "2  2002-07         3            0            67.0                 1982   \n",
       "3  2015-04         3            1            82.0                 1981   \n",
       "4  2004-04         5            0           117.0                 1978   \n",
       "\n",
       "   latitude   longitude planning_area  year  remaining_lease  \\\n",
       "0  1.346581  103.744085   bukit batok  2004               84   \n",
       "1  1.357618  103.961379      tampines  2001               95   \n",
       "2  1.337804  103.741998   jurong east  2002               79   \n",
       "3  1.380084  103.849574    ang mo kio  2015               65   \n",
       "4  1.313960  103.769831      clementi  2004               73   \n",
       "\n",
       "   nearest_mrt_distance  \n",
       "0            667.550041  \n",
       "1            766.385760  \n",
       "2            518.257497  \n",
       "3            546.923279  \n",
       "4            515.878471  "
      ]
     },
     "execution_count": 16,
     "metadata": {},
     "output_type": "execute_result"
    }
   ],
   "source": [
    "# %%time\n",
    "# import haversine\n",
    "# from haversine import haversine as hs\n",
    "# from haversine import Unit\n",
    "\n",
    "# def distance(loc1, loc2):\n",
    "#     return hs(loc1,loc2,unit=Unit.METERS)\n",
    "\n",
    "\n",
    "# df_mrt=pd.read_csv(\"auxiliary-data/sg-train-stations.csv\")\n",
    "# df_mrt=df_mrt.dropna()\n",
    "# df_mrt=df_mrt.drop(df_mrt[df_mrt[\"opening_year\"] > 2021].index)\n",
    "\n",
    "# flat_locs=df[[\"latitude\",\"longitude\"]].to_numpy()\n",
    "# flat_locs=list(map(tuple,flat_locs))\n",
    "\n",
    "# mrt_locs=df_mrt[[\"lat\",\"lng\"]].to_numpy()\n",
    "# mrt_locs=list(map(tuple,mrt_locs))\n",
    "\n",
    "# nearest_distances=[]\n",
    "# for flat in flat_locs:\n",
    "#     nearest_distances.append(min([distance(mrt,flat) for mrt in mrt_locs]))\n",
    "\n",
    "nearest_distances = np.load(\"nearest_mrt_distances_test.npy\")\n",
    "df[\"nearest_mrt_distance\"]=np.asarray(nearest_distances)\n",
    "df.head()\n",
    "\n"
   ]
  },
  {
   "cell_type": "markdown",
   "metadata": {},
   "source": [
    "Creating column for exist_primary_school"
   ]
  },
  {
   "cell_type": "code",
   "execution_count": 17,
   "metadata": {},
   "outputs": [
    {
     "data": {
      "text/html": [
       "<div>\n",
       "<style scoped>\n",
       "    .dataframe tbody tr th:only-of-type {\n",
       "        vertical-align: middle;\n",
       "    }\n",
       "\n",
       "    .dataframe tbody tr th {\n",
       "        vertical-align: top;\n",
       "    }\n",
       "\n",
       "    .dataframe thead th {\n",
       "        text-align: right;\n",
       "    }\n",
       "</style>\n",
       "<table border=\"1\" class=\"dataframe\">\n",
       "  <thead>\n",
       "    <tr style=\"text-align: right;\">\n",
       "      <th></th>\n",
       "      <th>month</th>\n",
       "      <th>flat_type</th>\n",
       "      <th>storey_range</th>\n",
       "      <th>floor_area_sqm</th>\n",
       "      <th>lease_commence_date</th>\n",
       "      <th>latitude</th>\n",
       "      <th>longitude</th>\n",
       "      <th>planning_area</th>\n",
       "      <th>year</th>\n",
       "      <th>remaining_lease</th>\n",
       "      <th>nearest_mrt_distance</th>\n",
       "      <th>exist_primary_school</th>\n",
       "    </tr>\n",
       "  </thead>\n",
       "  <tbody>\n",
       "    <tr>\n",
       "      <th>0</th>\n",
       "      <td>2004-01</td>\n",
       "      <td>4</td>\n",
       "      <td>1</td>\n",
       "      <td>94.0</td>\n",
       "      <td>1989</td>\n",
       "      <td>1.346581</td>\n",
       "      <td>103.744085</td>\n",
       "      <td>bukit batok</td>\n",
       "      <td>2004</td>\n",
       "      <td>84</td>\n",
       "      <td>667.550041</td>\n",
       "      <td>True</td>\n",
       "    </tr>\n",
       "    <tr>\n",
       "      <th>1</th>\n",
       "      <td>2001-11</td>\n",
       "      <td>5</td>\n",
       "      <td>1</td>\n",
       "      <td>122.0</td>\n",
       "      <td>1997</td>\n",
       "      <td>1.357618</td>\n",
       "      <td>103.961379</td>\n",
       "      <td>tampines</td>\n",
       "      <td>2001</td>\n",
       "      <td>95</td>\n",
       "      <td>766.385760</td>\n",
       "      <td>True</td>\n",
       "    </tr>\n",
       "    <tr>\n",
       "      <th>2</th>\n",
       "      <td>2002-07</td>\n",
       "      <td>3</td>\n",
       "      <td>0</td>\n",
       "      <td>67.0</td>\n",
       "      <td>1982</td>\n",
       "      <td>1.337804</td>\n",
       "      <td>103.741998</td>\n",
       "      <td>jurong east</td>\n",
       "      <td>2002</td>\n",
       "      <td>79</td>\n",
       "      <td>518.257497</td>\n",
       "      <td>True</td>\n",
       "    </tr>\n",
       "    <tr>\n",
       "      <th>3</th>\n",
       "      <td>2015-04</td>\n",
       "      <td>3</td>\n",
       "      <td>1</td>\n",
       "      <td>82.0</td>\n",
       "      <td>1981</td>\n",
       "      <td>1.380084</td>\n",
       "      <td>103.849574</td>\n",
       "      <td>ang mo kio</td>\n",
       "      <td>2015</td>\n",
       "      <td>65</td>\n",
       "      <td>546.923279</td>\n",
       "      <td>True</td>\n",
       "    </tr>\n",
       "    <tr>\n",
       "      <th>4</th>\n",
       "      <td>2004-04</td>\n",
       "      <td>5</td>\n",
       "      <td>0</td>\n",
       "      <td>117.0</td>\n",
       "      <td>1978</td>\n",
       "      <td>1.313960</td>\n",
       "      <td>103.769831</td>\n",
       "      <td>clementi</td>\n",
       "      <td>2004</td>\n",
       "      <td>73</td>\n",
       "      <td>515.878471</td>\n",
       "      <td>True</td>\n",
       "    </tr>\n",
       "  </tbody>\n",
       "</table>\n",
       "</div>"
      ],
      "text/plain": [
       "     month flat_type storey_range  floor_area_sqm  lease_commence_date  \\\n",
       "0  2004-01         4            1            94.0                 1989   \n",
       "1  2001-11         5            1           122.0                 1997   \n",
       "2  2002-07         3            0            67.0                 1982   \n",
       "3  2015-04         3            1            82.0                 1981   \n",
       "4  2004-04         5            0           117.0                 1978   \n",
       "\n",
       "   latitude   longitude planning_area  year  remaining_lease  \\\n",
       "0  1.346581  103.744085   bukit batok  2004               84   \n",
       "1  1.357618  103.961379      tampines  2001               95   \n",
       "2  1.337804  103.741998   jurong east  2002               79   \n",
       "3  1.380084  103.849574    ang mo kio  2015               65   \n",
       "4  1.313960  103.769831      clementi  2004               73   \n",
       "\n",
       "   nearest_mrt_distance  exist_primary_school  \n",
       "0            667.550041                  True  \n",
       "1            766.385760                  True  \n",
       "2            518.257497                  True  \n",
       "3            546.923279                  True  \n",
       "4            515.878471                  True  "
      ]
     },
     "execution_count": 17,
     "metadata": {},
     "output_type": "execute_result"
    }
   ],
   "source": [
    "# %%time\n",
    "# df_ps=pd.read_csv(\"auxiliary-data/sg-primary-schools.csv\")\n",
    "# df_ps=df_ps.dropna()\n",
    "\n",
    "# ps_locs=df_ps[[\"lat\",\"lng\"]].to_numpy()\n",
    "# ps_locs=list(map(tuple,ps_locs))\n",
    "\n",
    "# exist_primary_school=[]\n",
    "# for flat in flat_locs:\n",
    "#     exist_primary_school.append(min([distance(mrt,flat) for mrt in mrt_locs])<=1000)\n",
    "\n",
    "    \n",
    "exist_primary_school = np.load(\"exist_primary_school_test.npy\")    \n",
    "df[\"exist_primary_school\"]=np.asarray(exist_primary_school)\n",
    "df.head()"
   ]
  },
  {
   "cell_type": "code",
   "execution_count": 18,
   "metadata": {},
   "outputs": [],
   "source": [
    "# I keep year and drop month instead\n",
    "# df=df.drop(columns=[\"lease_commence_date\",\"latitude\",\"longitude\",\"resale_price\",\"year\"])\n",
    "# df.head()"
   ]
  },
  {
   "cell_type": "markdown",
   "metadata": {},
   "source": [
    "## gk_add-on_process"
   ]
  },
  {
   "cell_type": "code",
   "execution_count": 19,
   "metadata": {},
   "outputs": [],
   "source": [
    "df=df.drop(columns=[\"lease_commence_date\",\"latitude\",\"longitude\",\"month\"])"
   ]
  },
  {
   "cell_type": "code",
   "execution_count": 20,
   "metadata": {},
   "outputs": [],
   "source": [
    "df_org = pd.read_csv('test.csv') "
   ]
  },
  {
   "cell_type": "code",
   "execution_count": 21,
   "metadata": {},
   "outputs": [
    {
     "name": "stdout",
     "output_type": "stream",
     "text": [
      "<class 'pandas.core.frame.DataFrame'>\n",
      "RangeIndex: 107934 entries, 0 to 107933\n",
      "Data columns (total 8 columns):\n",
      " #   Column                Non-Null Count   Dtype   \n",
      "---  ------                --------------   -----   \n",
      " 0   flat_type             107934 non-null  category\n",
      " 1   storey_range          107934 non-null  category\n",
      " 2   floor_area_sqm        107934 non-null  float64 \n",
      " 3   planning_area         107934 non-null  category\n",
      " 4   year                  107934 non-null  int64   \n",
      " 5   remaining_lease       107934 non-null  int64   \n",
      " 6   nearest_mrt_distance  107934 non-null  float64 \n",
      " 7   exist_primary_school  107934 non-null  bool    \n",
      "dtypes: bool(1), category(3), float64(2), int64(2)\n",
      "memory usage: 3.7 MB\n"
     ]
    }
   ],
   "source": [
    "df.info()"
   ]
  },
  {
   "cell_type": "code",
   "execution_count": 22,
   "metadata": {},
   "outputs": [
    {
     "name": "stdout",
     "output_type": "stream",
     "text": [
      "<class 'pandas.core.frame.DataFrame'>\n",
      "RangeIndex: 107934 entries, 0 to 107933\n",
      "Data columns (total 8 columns):\n",
      " #   Column                Non-Null Count   Dtype   \n",
      "---  ------                --------------   -----   \n",
      " 0   flat_type             107934 non-null  object  \n",
      " 1   storey_range          107934 non-null  category\n",
      " 2   floor_area_sqm        107934 non-null  float64 \n",
      " 3   planning_area         107934 non-null  object  \n",
      " 4   year                  107934 non-null  int64   \n",
      " 5   remaining_lease       107934 non-null  int64   \n",
      " 6   nearest_mrt_distance  107934 non-null  float64 \n",
      " 7   exist_primary_school  107934 non-null  object  \n",
      "dtypes: category(1), float64(2), int64(2), object(3)\n",
      "memory usage: 5.9+ MB\n"
     ]
    }
   ],
   "source": [
    "df['planning_area'] = df['planning_area'].astype(str)\n",
    "df['flat_type'] = df['flat_type'].astype(str)\n",
    "df['exist_primary_school'] = df['exist_primary_school'].astype(str)\n",
    "\n",
    "# df = pd.get_dummies(df)\n",
    "df.info()"
   ]
  },
  {
   "cell_type": "code",
   "execution_count": 23,
   "metadata": {},
   "outputs": [
    {
     "name": "stdout",
     "output_type": "stream",
     "text": [
      "<class 'pandas.core.frame.DataFrame'>\n",
      "RangeIndex: 107934 entries, 0 to 107933\n",
      "Data columns (total 8 columns):\n",
      " #   Column                Non-Null Count   Dtype  \n",
      "---  ------                --------------   -----  \n",
      " 0   flat_type             107934 non-null  object \n",
      " 1   storey_range          107934 non-null  int64  \n",
      " 2   floor_area_sqm        107934 non-null  float64\n",
      " 3   planning_area         107934 non-null  object \n",
      " 4   year                  107934 non-null  int64  \n",
      " 5   remaining_lease       107934 non-null  int64  \n",
      " 6   nearest_mrt_distance  107934 non-null  float64\n",
      " 7   exist_primary_school  107934 non-null  object \n",
      "dtypes: float64(2), int64(3), object(3)\n",
      "memory usage: 6.6+ MB\n"
     ]
    }
   ],
   "source": [
    "\n",
    "df['storey_range'] =  df['storey_range'].astype(int)\n",
    "df.info()"
   ]
  },
  {
   "cell_type": "code",
   "execution_count": 24,
   "metadata": {},
   "outputs": [
    {
     "name": "stdout",
     "output_type": "stream",
     "text": [
      "<class 'pandas.core.frame.DataFrame'>\n",
      "RangeIndex: 107934 entries, 0 to 107933\n",
      "Data columns (total 46 columns):\n",
      " #   Column                       Non-Null Count   Dtype  \n",
      "---  ------                       --------------   -----  \n",
      " 0   storey_range                 107934 non-null  int64  \n",
      " 1   floor_area_sqm               107934 non-null  float64\n",
      " 2   year                         107934 non-null  int64  \n",
      " 3   remaining_lease              107934 non-null  int64  \n",
      " 4   nearest_mrt_distance         107934 non-null  float64\n",
      " 5   flat_type_1                  107934 non-null  uint8  \n",
      " 6   flat_type_2                  107934 non-null  uint8  \n",
      " 7   flat_type_3                  107934 non-null  uint8  \n",
      " 8   flat_type_4                  107934 non-null  uint8  \n",
      " 9   flat_type_5                  107934 non-null  uint8  \n",
      " 10  flat_type_e                  107934 non-null  uint8  \n",
      " 11  flat_type_m                  107934 non-null  uint8  \n",
      " 12  planning_area_ang mo kio     107934 non-null  uint8  \n",
      " 13  planning_area_bedok          107934 non-null  uint8  \n",
      " 14  planning_area_bishan         107934 non-null  uint8  \n",
      " 15  planning_area_bukit batok    107934 non-null  uint8  \n",
      " 16  planning_area_bukit merah    107934 non-null  uint8  \n",
      " 17  planning_area_bukit panjang  107934 non-null  uint8  \n",
      " 18  planning_area_bukit timah    107934 non-null  uint8  \n",
      " 19  planning_area_changi         107934 non-null  uint8  \n",
      " 20  planning_area_choa chu kang  107934 non-null  uint8  \n",
      " 21  planning_area_clementi       107934 non-null  uint8  \n",
      " 22  planning_area_downtown core  107934 non-null  uint8  \n",
      " 23  planning_area_geylang        107934 non-null  uint8  \n",
      " 24  planning_area_hougang        107934 non-null  uint8  \n",
      " 25  planning_area_jurong east    107934 non-null  uint8  \n",
      " 26  planning_area_jurong west    107934 non-null  uint8  \n",
      " 27  planning_area_kallang        107934 non-null  uint8  \n",
      " 28  planning_area_marine parade  107934 non-null  uint8  \n",
      " 29  planning_area_novena         107934 non-null  uint8  \n",
      " 30  planning_area_outram         107934 non-null  uint8  \n",
      " 31  planning_area_pasir ris      107934 non-null  uint8  \n",
      " 32  planning_area_punggol        107934 non-null  uint8  \n",
      " 33  planning_area_queenstown     107934 non-null  uint8  \n",
      " 34  planning_area_rochor         107934 non-null  uint8  \n",
      " 35  planning_area_sembawang      107934 non-null  uint8  \n",
      " 36  planning_area_sengkang       107934 non-null  uint8  \n",
      " 37  planning_area_serangoon      107934 non-null  uint8  \n",
      " 38  planning_area_sungei kadut   107934 non-null  uint8  \n",
      " 39  planning_area_tampines       107934 non-null  uint8  \n",
      " 40  planning_area_tanglin        107934 non-null  uint8  \n",
      " 41  planning_area_toa payoh      107934 non-null  uint8  \n",
      " 42  planning_area_woodlands      107934 non-null  uint8  \n",
      " 43  planning_area_yishun         107934 non-null  uint8  \n",
      " 44  exist_primary_school_False   107934 non-null  uint8  \n",
      " 45  exist_primary_school_True    107934 non-null  uint8  \n",
      "dtypes: float64(2), int64(3), uint8(41)\n",
      "memory usage: 8.3 MB\n"
     ]
    }
   ],
   "source": [
    "# df['storey_range'] = df['storey_range'].map({\"L\":0,\"M\":1,\"H\":2})\n",
    "df['storey_range'] =  df['storey_range'].astype(int)\n",
    "df= pd.get_dummies(df)\n",
    "df.info()"
   ]
  },
  {
   "cell_type": "markdown",
   "metadata": {},
   "source": [
    "## Writing the process data into a new file\n",
    "\n"
   ]
  },
  {
   "cell_type": "code",
   "execution_count": 25,
   "metadata": {},
   "outputs": [
    {
     "name": "stdout",
     "output_type": "stream",
     "text": [
      "CPU times: user 806 ms, sys: 25 ms, total: 832 ms\n",
      "Wall time: 834 ms\n"
     ]
    }
   ],
   "source": [
    "%%time\n",
    "filename=\"processed_test.csv\"\n",
    "\n",
    "df.to_csv(filename, index=False)\n",
    "    "
   ]
  },
  {
   "cell_type": "code",
   "execution_count": null,
   "metadata": {},
   "outputs": [],
   "source": []
  }
 ],
 "metadata": {
  "kernelspec": {
   "display_name": "Python 3",
   "language": "python",
   "name": "python3"
  },
  "language_info": {
   "codemirror_mode": {
    "name": "ipython",
    "version": 3
   },
   "file_extension": ".py",
   "mimetype": "text/x-python",
   "name": "python",
   "nbconvert_exporter": "python",
   "pygments_lexer": "ipython3",
   "version": "3.7.9"
  }
 },
 "nbformat": 4,
 "nbformat_minor": 5
}
