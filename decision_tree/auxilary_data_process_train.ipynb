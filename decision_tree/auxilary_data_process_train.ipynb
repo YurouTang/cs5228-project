{
 "cells": [
  {
   "cell_type": "code",
   "execution_count": 1,
   "metadata": {},
   "outputs": [],
   "source": [
    "import pandas as pd\n",
    "import numpy as np\n",
    "import matplotlib\n",
    "import matplotlib.pyplot as plt\n",
    "\n",
    "%matplotlib inline"
   ]
  },
  {
   "cell_type": "markdown",
   "metadata": {},
   "source": [
    "Creating column for nearest_mrt_distance."
   ]
  },
  {
   "cell_type": "code",
   "execution_count": 2,
   "metadata": {},
   "outputs": [],
   "source": [
    "df = pd.read_csv('train.csv')"
   ]
  },
  {
   "cell_type": "code",
   "execution_count": 3,
   "metadata": {},
   "outputs": [],
   "source": [
    "\n",
    "import haversine\n",
    "from haversine import haversine as hs\n",
    "from haversine import Unit\n",
    "\n",
    "def distance(loc1, loc2):\n",
    "    return hs(loc1,loc2,unit=Unit.METERS)\n",
    "\n",
    "\n",
    "df_mrt=pd.read_csv(\"auxiliary-data/sg-train-stations.csv\")\n",
    "df_mrt=df_mrt.dropna()\n",
    "df_mrt=df_mrt.drop(df_mrt[df_mrt[\"opening_year\"] > 2021].index)\n",
    "\n",
    "flat_locs=df[[\"latitude\",\"longitude\"]].to_numpy()\n",
    "flat_locs=list(map(tuple,flat_locs))\n",
    "\n",
    "mrt_locs=df_mrt[[\"lat\",\"lng\"]].to_numpy()\n",
    "mrt_locs=list(map(tuple,mrt_locs))\n",
    "\n",
    "nearest_distances=[]\n",
    "for flat in flat_locs:\n",
    "    nearest_distances.append(min([distance(mrt,flat) for mrt in mrt_locs]))\n"
   ]
  },
  {
   "cell_type": "code",
   "execution_count": 4,
   "metadata": {},
   "outputs": [],
   "source": [
    "np.save(\"nearest_mrt_distances_train.npy\",nearest_distances)"
   ]
  },
  {
   "cell_type": "markdown",
   "metadata": {},
   "source": [
    "Creating column for exist_primary_school"
   ]
  },
  {
   "cell_type": "code",
   "execution_count": 5,
   "metadata": {},
   "outputs": [
    {
     "name": "stdout",
     "output_type": "stream",
     "text": [
      "CPU times: user 1min 46s, sys: 416 ms, total: 1min 47s\n",
      "Wall time: 1min 47s\n"
     ]
    }
   ],
   "source": [
    "%%time\n",
    "df_ps=pd.read_csv(\"auxiliary-data/sg-primary-schools.csv\")\n",
    "df_ps=df_ps.dropna()\n",
    "\n",
    "ps_locs=df_ps[[\"lat\",\"lng\"]].to_numpy()\n",
    "ps_locs=list(map(tuple,ps_locs))\n",
    "\n",
    "exist_primary_school=[]\n",
    "for flat in flat_locs:\n",
    "    exist_primary_school.append(min([distance(mrt,flat) for mrt in mrt_locs])<=1000)\n",
    "\n"
   ]
  },
  {
   "cell_type": "code",
   "execution_count": 6,
   "metadata": {},
   "outputs": [],
   "source": [
    "np.save(\"exist_primary_school_train.npy\",exist_primary_school)"
   ]
  },
  {
   "cell_type": "code",
   "execution_count": null,
   "metadata": {},
   "outputs": [],
   "source": []
  }
 ],
 "metadata": {
  "kernelspec": {
   "display_name": "Python 3",
   "language": "python",
   "name": "python3"
  },
  "language_info": {
   "codemirror_mode": {
    "name": "ipython",
    "version": 3
   },
   "file_extension": ".py",
   "mimetype": "text/x-python",
   "name": "python",
   "nbconvert_exporter": "python",
   "pygments_lexer": "ipython3",
   "version": "3.7.9"
  }
 },
 "nbformat": 4,
 "nbformat_minor": 4
}
