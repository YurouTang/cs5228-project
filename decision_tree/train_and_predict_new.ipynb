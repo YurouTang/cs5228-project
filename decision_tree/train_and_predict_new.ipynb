{
 "cells": [
  {
   "cell_type": "code",
   "execution_count": 1,
   "metadata": {},
   "outputs": [],
   "source": [
    "import pandas as pd\n",
    "import numpy as np\n",
    "import matplotlib\n",
    "import matplotlib.pyplot as plt\n",
    "\n",
    "# 导入随机森林模型\n",
    "from sklearn.ensemble import RandomForestRegressor\n",
    "from sklearn.model_selection import KFold\n",
    "from sklearn.tree import DecisionTreeRegressor\n",
    "from sklearn.metrics import make_scorer\n",
    "from sklearn.model_selection import GridSearchCV\n",
    "from sklearn.model_selection import train_test_split\n",
    "from sklearn.ensemble import AdaBoostRegressor\n",
    "from sklearn.tree import DecisionTreeClassifier\n",
    "\n",
    "%matplotlib inline"
   ]
  },
  {
   "cell_type": "markdown",
   "metadata": {},
   "source": [
    "get training data and training label\n"
   ]
  },
  {
   "cell_type": "code",
   "execution_count": 2,
   "metadata": {},
   "outputs": [
    {
     "name": "stdout",
     "output_type": "stream",
     "text": [
      "<class 'pandas.core.frame.DataFrame'>\n",
      "RangeIndex: 431732 entries, 0 to 431731\n",
      "Data columns (total 56 columns):\n",
      " #   Column                       Non-Null Count   Dtype  \n",
      "---  ------                       --------------   -----  \n",
      " 0   floor_area_sqm               431732 non-null  float64\n",
      " 1   remaining_lease              431732 non-null  int64  \n",
      " 2   price_per_sqm                431732 non-null  float64\n",
      " 3   nearest_mrt_distance         431732 non-null  float64\n",
      " 4   index                        431732 non-null  float64\n",
      " 5   flat_type_1                  431732 non-null  int64  \n",
      " 6   flat_type_2                  431732 non-null  int64  \n",
      " 7   flat_type_3                  431732 non-null  int64  \n",
      " 8   flat_type_4                  431732 non-null  int64  \n",
      " 9   flat_type_5                  431732 non-null  int64  \n",
      " 10  flat_type_e                  431732 non-null  int64  \n",
      " 11  flat_type_m                  431732 non-null  int64  \n",
      " 12  storey_range_0               431732 non-null  int64  \n",
      " 13  storey_range_1               431732 non-null  int64  \n",
      " 14  storey_range_2               431732 non-null  int64  \n",
      " 15  storey_range_3               431732 non-null  int64  \n",
      " 16  storey_range_4               431732 non-null  int64  \n",
      " 17  storey_range_5               431732 non-null  int64  \n",
      " 18  storey_range_6               431732 non-null  int64  \n",
      " 19  storey_range_7               431732 non-null  int64  \n",
      " 20  storey_range_8               431732 non-null  int64  \n",
      " 21  storey_range_9               431732 non-null  int64  \n",
      " 22  planning_area_ang mo kio     431732 non-null  int64  \n",
      " 23  planning_area_bedok          431732 non-null  int64  \n",
      " 24  planning_area_bishan         431732 non-null  int64  \n",
      " 25  planning_area_bukit batok    431732 non-null  int64  \n",
      " 26  planning_area_bukit merah    431732 non-null  int64  \n",
      " 27  planning_area_bukit panjang  431732 non-null  int64  \n",
      " 28  planning_area_bukit timah    431732 non-null  int64  \n",
      " 29  planning_area_changi         431732 non-null  int64  \n",
      " 30  planning_area_choa chu kang  431732 non-null  int64  \n",
      " 31  planning_area_clementi       431732 non-null  int64  \n",
      " 32  planning_area_downtown core  431732 non-null  int64  \n",
      " 33  planning_area_geylang        431732 non-null  int64  \n",
      " 34  planning_area_hougang        431732 non-null  int64  \n",
      " 35  planning_area_jurong east    431732 non-null  int64  \n",
      " 36  planning_area_jurong west    431732 non-null  int64  \n",
      " 37  planning_area_kallang        431732 non-null  int64  \n",
      " 38  planning_area_marine parade  431732 non-null  int64  \n",
      " 39  planning_area_novena         431732 non-null  int64  \n",
      " 40  planning_area_outram         431732 non-null  int64  \n",
      " 41  planning_area_pasir ris      431732 non-null  int64  \n",
      " 42  planning_area_punggol        431732 non-null  int64  \n",
      " 43  planning_area_queenstown     431732 non-null  int64  \n",
      " 44  planning_area_rochor         431732 non-null  int64  \n",
      " 45  planning_area_sembawang      431732 non-null  int64  \n",
      " 46  planning_area_sengkang       431732 non-null  int64  \n",
      " 47  planning_area_serangoon      431732 non-null  int64  \n",
      " 48  planning_area_sungei kadut   431732 non-null  int64  \n",
      " 49  planning_area_tampines       431732 non-null  int64  \n",
      " 50  planning_area_tanglin        431732 non-null  int64  \n",
      " 51  planning_area_toa payoh      431732 non-null  int64  \n",
      " 52  planning_area_woodlands      431732 non-null  int64  \n",
      " 53  planning_area_yishun         431732 non-null  int64  \n",
      " 54  exist_primary_school_False   431732 non-null  int64  \n",
      " 55  exist_primary_school_True    431732 non-null  int64  \n",
      "dtypes: float64(4), int64(52)\n",
      "memory usage: 184.5 MB\n"
     ]
    }
   ],
   "source": [
    "df_train = pd.read_csv(\"processed_train.csv\")\n",
    "df_train.head()\n",
    "df_train.info()"
   ]
  },
  {
   "cell_type": "code",
   "execution_count": 3,
   "metadata": {},
   "outputs": [
    {
     "data": {
      "text/html": [
       "<div>\n",
       "<style scoped>\n",
       "    .dataframe tbody tr th:only-of-type {\n",
       "        vertical-align: middle;\n",
       "    }\n",
       "\n",
       "    .dataframe tbody tr th {\n",
       "        vertical-align: top;\n",
       "    }\n",
       "\n",
       "    .dataframe thead th {\n",
       "        text-align: right;\n",
       "    }\n",
       "</style>\n",
       "<table border=\"1\" class=\"dataframe\">\n",
       "  <thead>\n",
       "    <tr style=\"text-align: right;\">\n",
       "      <th></th>\n",
       "      <th>floor_area_sqm</th>\n",
       "      <th>remaining_lease</th>\n",
       "      <th>nearest_mrt_distance</th>\n",
       "      <th>flat_type_1</th>\n",
       "      <th>flat_type_2</th>\n",
       "      <th>flat_type_3</th>\n",
       "      <th>flat_type_4</th>\n",
       "      <th>flat_type_5</th>\n",
       "      <th>flat_type_e</th>\n",
       "      <th>flat_type_m</th>\n",
       "      <th>...</th>\n",
       "      <th>planning_area_sengkang</th>\n",
       "      <th>planning_area_serangoon</th>\n",
       "      <th>planning_area_sungei kadut</th>\n",
       "      <th>planning_area_tampines</th>\n",
       "      <th>planning_area_tanglin</th>\n",
       "      <th>planning_area_toa payoh</th>\n",
       "      <th>planning_area_woodlands</th>\n",
       "      <th>planning_area_yishun</th>\n",
       "      <th>exist_primary_school_False</th>\n",
       "      <th>exist_primary_school_True</th>\n",
       "    </tr>\n",
       "  </thead>\n",
       "  <tbody>\n",
       "    <tr>\n",
       "      <th>0</th>\n",
       "      <td>118.0</td>\n",
       "      <td>87</td>\n",
       "      <td>1137.523316</td>\n",
       "      <td>0</td>\n",
       "      <td>0</td>\n",
       "      <td>0</td>\n",
       "      <td>1</td>\n",
       "      <td>0</td>\n",
       "      <td>0</td>\n",
       "      <td>0</td>\n",
       "      <td>...</td>\n",
       "      <td>0</td>\n",
       "      <td>0</td>\n",
       "      <td>0</td>\n",
       "      <td>0</td>\n",
       "      <td>0</td>\n",
       "      <td>0</td>\n",
       "      <td>0</td>\n",
       "      <td>0</td>\n",
       "      <td>1</td>\n",
       "      <td>0</td>\n",
       "    </tr>\n",
       "    <tr>\n",
       "      <th>1</th>\n",
       "      <td>110.0</td>\n",
       "      <td>88</td>\n",
       "      <td>823.554217</td>\n",
       "      <td>0</td>\n",
       "      <td>0</td>\n",
       "      <td>0</td>\n",
       "      <td>0</td>\n",
       "      <td>1</td>\n",
       "      <td>0</td>\n",
       "      <td>0</td>\n",
       "      <td>...</td>\n",
       "      <td>0</td>\n",
       "      <td>0</td>\n",
       "      <td>0</td>\n",
       "      <td>0</td>\n",
       "      <td>0</td>\n",
       "      <td>0</td>\n",
       "      <td>0</td>\n",
       "      <td>0</td>\n",
       "      <td>0</td>\n",
       "      <td>1</td>\n",
       "    </tr>\n",
       "    <tr>\n",
       "      <th>2</th>\n",
       "      <td>112.0</td>\n",
       "      <td>83</td>\n",
       "      <td>2230.703009</td>\n",
       "      <td>0</td>\n",
       "      <td>0</td>\n",
       "      <td>0</td>\n",
       "      <td>0</td>\n",
       "      <td>1</td>\n",
       "      <td>0</td>\n",
       "      <td>0</td>\n",
       "      <td>...</td>\n",
       "      <td>1</td>\n",
       "      <td>0</td>\n",
       "      <td>0</td>\n",
       "      <td>0</td>\n",
       "      <td>0</td>\n",
       "      <td>0</td>\n",
       "      <td>0</td>\n",
       "      <td>0</td>\n",
       "      <td>1</td>\n",
       "      <td>0</td>\n",
       "    </tr>\n",
       "    <tr>\n",
       "      <th>3</th>\n",
       "      <td>67.0</td>\n",
       "      <td>79</td>\n",
       "      <td>423.320893</td>\n",
       "      <td>0</td>\n",
       "      <td>0</td>\n",
       "      <td>1</td>\n",
       "      <td>0</td>\n",
       "      <td>0</td>\n",
       "      <td>0</td>\n",
       "      <td>0</td>\n",
       "      <td>...</td>\n",
       "      <td>0</td>\n",
       "      <td>0</td>\n",
       "      <td>0</td>\n",
       "      <td>0</td>\n",
       "      <td>0</td>\n",
       "      <td>0</td>\n",
       "      <td>0</td>\n",
       "      <td>0</td>\n",
       "      <td>0</td>\n",
       "      <td>1</td>\n",
       "    </tr>\n",
       "    <tr>\n",
       "      <th>4</th>\n",
       "      <td>73.0</td>\n",
       "      <td>71</td>\n",
       "      <td>774.220785</td>\n",
       "      <td>0</td>\n",
       "      <td>0</td>\n",
       "      <td>1</td>\n",
       "      <td>0</td>\n",
       "      <td>0</td>\n",
       "      <td>0</td>\n",
       "      <td>0</td>\n",
       "      <td>...</td>\n",
       "      <td>0</td>\n",
       "      <td>0</td>\n",
       "      <td>0</td>\n",
       "      <td>0</td>\n",
       "      <td>0</td>\n",
       "      <td>0</td>\n",
       "      <td>0</td>\n",
       "      <td>0</td>\n",
       "      <td>0</td>\n",
       "      <td>1</td>\n",
       "    </tr>\n",
       "  </tbody>\n",
       "</table>\n",
       "<p>5 rows × 54 columns</p>\n",
       "</div>"
      ],
      "text/plain": [
       "   floor_area_sqm  remaining_lease  nearest_mrt_distance  flat_type_1  \\\n",
       "0           118.0               87           1137.523316            0   \n",
       "1           110.0               88            823.554217            0   \n",
       "2           112.0               83           2230.703009            0   \n",
       "3            67.0               79            423.320893            0   \n",
       "4            73.0               71            774.220785            0   \n",
       "\n",
       "   flat_type_2  flat_type_3  flat_type_4  flat_type_5  flat_type_e  \\\n",
       "0            0            0            1            0            0   \n",
       "1            0            0            0            1            0   \n",
       "2            0            0            0            1            0   \n",
       "3            0            1            0            0            0   \n",
       "4            0            1            0            0            0   \n",
       "\n",
       "   flat_type_m  ...  planning_area_sengkang  planning_area_serangoon  \\\n",
       "0            0  ...                       0                        0   \n",
       "1            0  ...                       0                        0   \n",
       "2            0  ...                       1                        0   \n",
       "3            0  ...                       0                        0   \n",
       "4            0  ...                       0                        0   \n",
       "\n",
       "   planning_area_sungei kadut  planning_area_tampines  planning_area_tanglin  \\\n",
       "0                           0                       0                      0   \n",
       "1                           0                       0                      0   \n",
       "2                           0                       0                      0   \n",
       "3                           0                       0                      0   \n",
       "4                           0                       0                      0   \n",
       "\n",
       "   planning_area_toa payoh  planning_area_woodlands  planning_area_yishun  \\\n",
       "0                        0                        0                     0   \n",
       "1                        0                        0                     0   \n",
       "2                        0                        0                     0   \n",
       "3                        0                        0                     0   \n",
       "4                        0                        0                     0   \n",
       "\n",
       "   exist_primary_school_False  exist_primary_school_True  \n",
       "0                           1                          0  \n",
       "1                           0                          1  \n",
       "2                           1                          0  \n",
       "3                           0                          1  \n",
       "4                           0                          1  \n",
       "\n",
       "[5 rows x 54 columns]"
      ]
     },
     "execution_count": 3,
     "metadata": {},
     "output_type": "execute_result"
    }
   ],
   "source": [
    "tmp_train = df_train.drop(columns=[\"price_per_sqm\",'index']) \n",
    "tmp_train.head()"
   ]
  },
  {
   "cell_type": "code",
   "execution_count": 4,
   "metadata": {},
   "outputs": [],
   "source": [
    "\n",
    "\n",
    "X = tmp_train.to_numpy()\n",
    "y= df_train[[\"price_per_sqm\"]].to_numpy().squeeze()\n",
    "\n",
    "X_train, X_test, y_train, y_test = train_test_split(X, y, test_size=0.2, random_state=0)\n"
   ]
  },
  {
   "cell_type": "markdown",
   "metadata": {},
   "source": [
    "train model and find best parameters "
   ]
  },
  {
   "cell_type": "code",
   "execution_count": 5,
   "metadata": {},
   "outputs": [
    {
     "name": "stdout",
     "output_type": "stream",
     "text": [
      "CPU times: user 26min 9s, sys: 11 s, total: 26min 20s\n",
      "Wall time: 26min 23s\n"
     ]
    },
    {
     "data": {
      "text/plain": [
       "RandomForestRegressor(max_depth=64, n_estimators=500)"
      ]
     },
     "execution_count": 5,
     "metadata": {},
     "output_type": "execute_result"
    }
   ],
   "source": [
    "%%time\n",
    "model = RandomForestRegressor(n_estimators=500,max_depth=64)\n",
    "#,min_samples_split=15)\n",
    "model.fit(X,y)"
   ]
  },
  {
   "cell_type": "code",
   "execution_count": 6,
   "metadata": {
    "scrolled": true
   },
   "outputs": [
    {
     "name": "stdout",
     "output_type": "stream",
     "text": [
      "CPU times: user 24.7 s, sys: 16.7 s, total: 41.3 s\n",
      "Wall time: 43 s\n"
     ]
    }
   ],
   "source": [
    "%%time\n",
    "y_pre = model.predict(X_test)"
   ]
  },
  {
   "cell_type": "code",
   "execution_count": 7,
   "metadata": {},
   "outputs": [
    {
     "data": {
      "text/plain": [
       "0.9725058593814413"
      ]
     },
     "execution_count": 7,
     "metadata": {},
     "output_type": "execute_result"
    }
   ],
   "source": [
    "from sklearn.metrics import r2_score\n",
    "r2_score(y_test, y_pre)"
   ]
  },
  {
   "cell_type": "markdown",
   "metadata": {},
   "source": [
    "max_depth=8, 0.8227\n",
    "max_depth=12, 0.8898\n",
    "max_depth=\n",
    "\n",
    "max_depth=16, 0.748\n",
    "max_depth=12, 0.6575\n",
    "max_depth=4, 0.352\n",
    "max_depth=32, 0.916\n",
    "max_depth=64, 0.932\n",
    "\n",
    "32 0.785\n",
    "\n",
    "\n",
    "* 64 0.933310597472838\n",
    "* 32 0.9724903794738372"
   ]
  },
  {
   "cell_type": "code",
   "execution_count": null,
   "metadata": {},
   "outputs": [],
   "source": []
  },
  {
   "cell_type": "markdown",
   "metadata": {},
   "source": [
    "predict the score of test data"
   ]
  },
  {
   "cell_type": "code",
   "execution_count": 8,
   "metadata": {},
   "outputs": [
    {
     "data": {
      "text/html": [
       "<div>\n",
       "<style scoped>\n",
       "    .dataframe tbody tr th:only-of-type {\n",
       "        vertical-align: middle;\n",
       "    }\n",
       "\n",
       "    .dataframe tbody tr th {\n",
       "        vertical-align: top;\n",
       "    }\n",
       "\n",
       "    .dataframe thead th {\n",
       "        text-align: right;\n",
       "    }\n",
       "</style>\n",
       "<table border=\"1\" class=\"dataframe\">\n",
       "  <thead>\n",
       "    <tr style=\"text-align: right;\">\n",
       "      <th></th>\n",
       "      <th>floor_area_sqm</th>\n",
       "      <th>remaining_lease</th>\n",
       "      <th>nearest_mrt_distance</th>\n",
       "      <th>index</th>\n",
       "      <th>flat_type_1</th>\n",
       "      <th>flat_type_2</th>\n",
       "      <th>flat_type_3</th>\n",
       "      <th>flat_type_4</th>\n",
       "      <th>flat_type_5</th>\n",
       "      <th>flat_type_e</th>\n",
       "      <th>...</th>\n",
       "      <th>planning_area_sengkang</th>\n",
       "      <th>planning_area_serangoon</th>\n",
       "      <th>planning_area_sungei kadut</th>\n",
       "      <th>planning_area_tampines</th>\n",
       "      <th>planning_area_tanglin</th>\n",
       "      <th>planning_area_toa payoh</th>\n",
       "      <th>planning_area_woodlands</th>\n",
       "      <th>planning_area_yishun</th>\n",
       "      <th>exist_primary_school_False</th>\n",
       "      <th>exist_primary_school_True</th>\n",
       "    </tr>\n",
       "  </thead>\n",
       "  <tbody>\n",
       "    <tr>\n",
       "      <th>0</th>\n",
       "      <td>94.0</td>\n",
       "      <td>84</td>\n",
       "      <td>667.550041</td>\n",
       "      <td>0.753</td>\n",
       "      <td>0</td>\n",
       "      <td>0</td>\n",
       "      <td>0</td>\n",
       "      <td>1</td>\n",
       "      <td>0</td>\n",
       "      <td>0</td>\n",
       "      <td>...</td>\n",
       "      <td>0</td>\n",
       "      <td>0</td>\n",
       "      <td>0</td>\n",
       "      <td>0</td>\n",
       "      <td>0</td>\n",
       "      <td>0</td>\n",
       "      <td>0</td>\n",
       "      <td>0</td>\n",
       "      <td>0</td>\n",
       "      <td>1</td>\n",
       "    </tr>\n",
       "    <tr>\n",
       "      <th>1</th>\n",
       "      <td>122.0</td>\n",
       "      <td>95</td>\n",
       "      <td>766.385760</td>\n",
       "      <td>0.696</td>\n",
       "      <td>0</td>\n",
       "      <td>0</td>\n",
       "      <td>0</td>\n",
       "      <td>0</td>\n",
       "      <td>1</td>\n",
       "      <td>0</td>\n",
       "      <td>...</td>\n",
       "      <td>0</td>\n",
       "      <td>0</td>\n",
       "      <td>0</td>\n",
       "      <td>1</td>\n",
       "      <td>0</td>\n",
       "      <td>0</td>\n",
       "      <td>0</td>\n",
       "      <td>0</td>\n",
       "      <td>0</td>\n",
       "      <td>1</td>\n",
       "    </tr>\n",
       "    <tr>\n",
       "      <th>2</th>\n",
       "      <td>67.0</td>\n",
       "      <td>79</td>\n",
       "      <td>518.257497</td>\n",
       "      <td>0.699</td>\n",
       "      <td>0</td>\n",
       "      <td>0</td>\n",
       "      <td>1</td>\n",
       "      <td>0</td>\n",
       "      <td>0</td>\n",
       "      <td>0</td>\n",
       "      <td>...</td>\n",
       "      <td>0</td>\n",
       "      <td>0</td>\n",
       "      <td>0</td>\n",
       "      <td>0</td>\n",
       "      <td>0</td>\n",
       "      <td>0</td>\n",
       "      <td>0</td>\n",
       "      <td>0</td>\n",
       "      <td>0</td>\n",
       "      <td>1</td>\n",
       "    </tr>\n",
       "    <tr>\n",
       "      <th>3</th>\n",
       "      <td>82.0</td>\n",
       "      <td>65</td>\n",
       "      <td>546.923279</td>\n",
       "      <td>1.350</td>\n",
       "      <td>0</td>\n",
       "      <td>0</td>\n",
       "      <td>1</td>\n",
       "      <td>0</td>\n",
       "      <td>0</td>\n",
       "      <td>0</td>\n",
       "      <td>...</td>\n",
       "      <td>0</td>\n",
       "      <td>0</td>\n",
       "      <td>0</td>\n",
       "      <td>0</td>\n",
       "      <td>0</td>\n",
       "      <td>0</td>\n",
       "      <td>0</td>\n",
       "      <td>0</td>\n",
       "      <td>0</td>\n",
       "      <td>1</td>\n",
       "    </tr>\n",
       "    <tr>\n",
       "      <th>4</th>\n",
       "      <td>117.0</td>\n",
       "      <td>73</td>\n",
       "      <td>515.878471</td>\n",
       "      <td>0.762</td>\n",
       "      <td>0</td>\n",
       "      <td>0</td>\n",
       "      <td>0</td>\n",
       "      <td>0</td>\n",
       "      <td>1</td>\n",
       "      <td>0</td>\n",
       "      <td>...</td>\n",
       "      <td>0</td>\n",
       "      <td>0</td>\n",
       "      <td>0</td>\n",
       "      <td>0</td>\n",
       "      <td>0</td>\n",
       "      <td>0</td>\n",
       "      <td>0</td>\n",
       "      <td>0</td>\n",
       "      <td>0</td>\n",
       "      <td>1</td>\n",
       "    </tr>\n",
       "  </tbody>\n",
       "</table>\n",
       "<p>5 rows × 55 columns</p>\n",
       "</div>"
      ],
      "text/plain": [
       "   floor_area_sqm  remaining_lease  nearest_mrt_distance  index  flat_type_1  \\\n",
       "0            94.0               84            667.550041  0.753            0   \n",
       "1           122.0               95            766.385760  0.696            0   \n",
       "2            67.0               79            518.257497  0.699            0   \n",
       "3            82.0               65            546.923279  1.350            0   \n",
       "4           117.0               73            515.878471  0.762            0   \n",
       "\n",
       "   flat_type_2  flat_type_3  flat_type_4  flat_type_5  flat_type_e  ...  \\\n",
       "0            0            0            1            0            0  ...   \n",
       "1            0            0            0            1            0  ...   \n",
       "2            0            1            0            0            0  ...   \n",
       "3            0            1            0            0            0  ...   \n",
       "4            0            0            0            1            0  ...   \n",
       "\n",
       "   planning_area_sengkang  planning_area_serangoon  \\\n",
       "0                       0                        0   \n",
       "1                       0                        0   \n",
       "2                       0                        0   \n",
       "3                       0                        0   \n",
       "4                       0                        0   \n",
       "\n",
       "   planning_area_sungei kadut  planning_area_tampines  planning_area_tanglin  \\\n",
       "0                           0                       0                      0   \n",
       "1                           0                       1                      0   \n",
       "2                           0                       0                      0   \n",
       "3                           0                       0                      0   \n",
       "4                           0                       0                      0   \n",
       "\n",
       "   planning_area_toa payoh  planning_area_woodlands  planning_area_yishun  \\\n",
       "0                        0                        0                     0   \n",
       "1                        0                        0                     0   \n",
       "2                        0                        0                     0   \n",
       "3                        0                        0                     0   \n",
       "4                        0                        0                     0   \n",
       "\n",
       "   exist_primary_school_False  exist_primary_school_True  \n",
       "0                           0                          1  \n",
       "1                           0                          1  \n",
       "2                           0                          1  \n",
       "3                           0                          1  \n",
       "4                           0                          1  \n",
       "\n",
       "[5 rows x 55 columns]"
      ]
     },
     "execution_count": 8,
     "metadata": {},
     "output_type": "execute_result"
    }
   ],
   "source": [
    "df_test = pd.read_csv(\"processed_test.csv\")\n",
    "df_test.head()"
   ]
  },
  {
   "cell_type": "code",
   "execution_count": 9,
   "metadata": {},
   "outputs": [
    {
     "data": {
      "text/plain": [
       "(107934, 54)"
      ]
     },
     "execution_count": 9,
     "metadata": {},
     "output_type": "execute_result"
    }
   ],
   "source": [
    "\n",
    "tmp_test=df_test.drop(columns=['index'])\n",
    "final_test = tmp_test.to_numpy()\n",
    "final_test.shape"
   ]
  },
  {
   "cell_type": "code",
   "execution_count": 10,
   "metadata": {},
   "outputs": [
    {
     "name": "stdout",
     "output_type": "stream",
     "text": [
      "[2695.33531382 3541.4104717  2720.65287742 ... 3133.41227687 2374.74878122\n",
      " 3255.82019436]\n"
     ]
    }
   ],
   "source": [
    "predicted_price_per_sqm = model.predict(final_test)\n",
    "print(predicted_price_per_sqm)"
   ]
  },
  {
   "cell_type": "markdown",
   "metadata": {},
   "source": [
    "modify the form of score file as required"
   ]
  },
  {
   "cell_type": "code",
   "execution_count": 11,
   "metadata": {},
   "outputs": [],
   "source": [
    "array= np.array(df_test[\"floor_area_sqm\"])"
   ]
  },
  {
   "cell_type": "code",
   "execution_count": 12,
   "metadata": {},
   "outputs": [],
   "source": [
    "predicted_price= array*predicted_price_per_sqm \n",
    "shape_0 = predicted_price.shape[0]\n",
    "array_id = np.arange(shape_0)"
   ]
  },
  {
   "cell_type": "code",
   "execution_count": 13,
   "metadata": {},
   "outputs": [
    {
     "name": "stdout",
     "output_type": "stream",
     "text": [
      "[253361.51949926 432052.07754724 182283.74278746 245019.97874548\n",
      " 414296.78786956]\n"
     ]
    }
   ],
   "source": [
    "print(predicted_price[:5])"
   ]
  },
  {
   "cell_type": "markdown",
   "metadata": {},
   "source": [
    "Adjust based on index"
   ]
  },
  {
   "cell_type": "code",
   "execution_count": 14,
   "metadata": {},
   "outputs": [
    {
     "name": "stdout",
     "output_type": "stream",
     "text": [
      "[0.753 0.696 0.699 ... 0.803 1.05  1.166]\n",
      "[190781.22418294 300708.24597288 127416.33620844 330776.9713064\n",
      " 315694.1523566 ]\n"
     ]
    }
   ],
   "source": [
    "index_arr=np.array(df_test['index'])\n",
    "print(index_arr)\n",
    "predicted_price=index_arr*predicted_price\n",
    "print(predicted_price[:5])"
   ]
  },
  {
   "cell_type": "markdown",
   "metadata": {},
   "source": [
    "Test data first 5 actual value based on data.\n",
    "195000 360000 137000 360000 340000"
   ]
  },
  {
   "cell_type": "code",
   "execution_count": 15,
   "metadata": {},
   "outputs": [],
   "source": [
    "new_array = np.zeros((shape_0,2))\n",
    "new_array[:,0] = array_id \n",
    "new_array[:,1] = predicted_price\n"
   ]
  },
  {
   "cell_type": "code",
   "execution_count": 16,
   "metadata": {},
   "outputs": [],
   "source": [
    "df_prediction = pd.DataFrame(new_array)\n",
    "df_prediction.columns = ['Id','Predicted']\n",
    "df_prediction['Id'] = df_prediction['Id'].astype(np.int32)"
   ]
  },
  {
   "cell_type": "code",
   "execution_count": 17,
   "metadata": {},
   "outputs": [],
   "source": [
    "filename=\"prediction.csv\"\n",
    "df_prediction.to_csv(filename, index=False)"
   ]
  },
  {
   "cell_type": "code",
   "execution_count": null,
   "metadata": {},
   "outputs": [],
   "source": []
  },
  {
   "cell_type": "code",
   "execution_count": null,
   "metadata": {},
   "outputs": [],
   "source": []
  }
 ],
 "metadata": {
  "kernelspec": {
   "display_name": "Python 3",
   "language": "python",
   "name": "python3"
  },
  "language_info": {
   "codemirror_mode": {
    "name": "ipython",
    "version": 3
   },
   "file_extension": ".py",
   "mimetype": "text/x-python",
   "name": "python",
   "nbconvert_exporter": "python",
   "pygments_lexer": "ipython3",
   "version": "3.7.7"
  }
 },
 "nbformat": 4,
 "nbformat_minor": 4
}
