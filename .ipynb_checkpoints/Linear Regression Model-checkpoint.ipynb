{
 "cells": [
  {
   "cell_type": "markdown",
   "id": "improved-africa",
   "metadata": {},
   "source": [
    "# Linear Regression"
   ]
  },
  {
   "cell_type": "code",
   "execution_count": 1,
   "id": "sticky-fence",
   "metadata": {},
   "outputs": [],
   "source": [
    "%matplotlib notebook"
   ]
  },
  {
   "cell_type": "code",
   "execution_count": 2,
   "id": "pressing-baker",
   "metadata": {},
   "outputs": [],
   "source": [
    "import numpy as np\n",
    "import pandas as pd\n",
    "import matplotlib.pyplot as plt\n",
    "\n",
    "from sklearn.metrics import mean_squared_error\n",
    "from sklearn.linear_model import LinearRegression, Ridge\n",
    "from sklearn.preprocessing import PolynomialFeatures, StandardScaler\n",
    "from sklearn.model_selection import train_test_split"
   ]
  },
  {
   "cell_type": "markdown",
   "id": "universal-might",
   "metadata": {},
   "source": [
    "- how to handle categorical variables (nominal e.g. planning_area)\n",
    "- regression analysis"
   ]
  },
  {
   "cell_type": "markdown",
   "id": "characteristic-fiber",
   "metadata": {},
   "source": [
    "https://www.analyticsvidhya.com/blog/2015/11/easy-methods-deal-categorical-variables-predictive-modeling/\n",
    "https://medium.com/analytics-vidhya/implementing-linear-regression-using-sklearn-76264a3c073c\n",
    "https://www.datacamp.com/community/tutorials/categorical-data"
   ]
  },
  {
   "cell_type": "code",
   "execution_count": 3,
   "id": "wooden-oriental",
   "metadata": {},
   "outputs": [
    {
     "data": {
      "text/html": [
       "<div>\n",
       "<style scoped>\n",
       "    .dataframe tbody tr th:only-of-type {\n",
       "        vertical-align: middle;\n",
       "    }\n",
       "\n",
       "    .dataframe tbody tr th {\n",
       "        vertical-align: top;\n",
       "    }\n",
       "\n",
       "    .dataframe thead th {\n",
       "        text-align: right;\n",
       "    }\n",
       "</style>\n",
       "<table border=\"1\" class=\"dataframe\">\n",
       "  <thead>\n",
       "    <tr style=\"text-align: right;\">\n",
       "      <th></th>\n",
       "      <th>month</th>\n",
       "      <th>flat_type</th>\n",
       "      <th>storey_range</th>\n",
       "      <th>floor_area_sqm</th>\n",
       "      <th>planning_area</th>\n",
       "      <th>remaining_lease</th>\n",
       "      <th>price_per_sqm</th>\n",
       "      <th>nearest_mrt_distance</th>\n",
       "      <th>exist_primary_school</th>\n",
       "    </tr>\n",
       "  </thead>\n",
       "  <tbody>\n",
       "    <tr>\n",
       "      <th>0</th>\n",
       "      <td>2001-08</td>\n",
       "      <td>4</td>\n",
       "      <td>L</td>\n",
       "      <td>118.0</td>\n",
       "      <td>pasir ris</td>\n",
       "      <td>87</td>\n",
       "      <td>1777.118644</td>\n",
       "      <td>1137.523316</td>\n",
       "      <td>False</td>\n",
       "    </tr>\n",
       "    <tr>\n",
       "      <th>1</th>\n",
       "      <td>2014-10</td>\n",
       "      <td>5</td>\n",
       "      <td>H</td>\n",
       "      <td>110.0</td>\n",
       "      <td>punggol</td>\n",
       "      <td>88</td>\n",
       "      <td>3657.272727</td>\n",
       "      <td>823.554217</td>\n",
       "      <td>True</td>\n",
       "    </tr>\n",
       "    <tr>\n",
       "      <th>2</th>\n",
       "      <td>2020-09</td>\n",
       "      <td>5</td>\n",
       "      <td>L</td>\n",
       "      <td>112.0</td>\n",
       "      <td>sengkang</td>\n",
       "      <td>83</td>\n",
       "      <td>3133.928571</td>\n",
       "      <td>2230.703009</td>\n",
       "      <td>False</td>\n",
       "    </tr>\n",
       "    <tr>\n",
       "      <th>3</th>\n",
       "      <td>2000-10</td>\n",
       "      <td>3</td>\n",
       "      <td>M</td>\n",
       "      <td>67.0</td>\n",
       "      <td>clementi</td>\n",
       "      <td>79</td>\n",
       "      <td>2256.716418</td>\n",
       "      <td>423.320893</td>\n",
       "      <td>True</td>\n",
       "    </tr>\n",
       "    <tr>\n",
       "      <th>4</th>\n",
       "      <td>2013-01</td>\n",
       "      <td>3</td>\n",
       "      <td>M</td>\n",
       "      <td>73.0</td>\n",
       "      <td>bukit batok</td>\n",
       "      <td>71</td>\n",
       "      <td>4364.383562</td>\n",
       "      <td>774.220785</td>\n",
       "      <td>True</td>\n",
       "    </tr>\n",
       "  </tbody>\n",
       "</table>\n",
       "</div>"
      ],
      "text/plain": [
       "     month flat_type storey_range  floor_area_sqm planning_area  \\\n",
       "0  2001-08         4            L           118.0     pasir ris   \n",
       "1  2014-10         5            H           110.0       punggol   \n",
       "2  2020-09         5            L           112.0      sengkang   \n",
       "3  2000-10         3            M            67.0      clementi   \n",
       "4  2013-01         3            M            73.0   bukit batok   \n",
       "\n",
       "   remaining_lease  price_per_sqm  nearest_mrt_distance  exist_primary_school  \n",
       "0               87    1777.118644           1137.523316                 False  \n",
       "1               88    3657.272727            823.554217                  True  \n",
       "2               83    3133.928571           2230.703009                 False  \n",
       "3               79    2256.716418            423.320893                  True  \n",
       "4               71    4364.383562            774.220785                  True  "
      ]
     },
     "execution_count": 3,
     "metadata": {},
     "output_type": "execute_result"
    }
   ],
   "source": [
    "df = pd.read_csv('processed_train.csv')\n",
    "df.head()"
   ]
  },
  {
   "cell_type": "code",
   "execution_count": 4,
   "id": "abstract-dispute",
   "metadata": {},
   "outputs": [],
   "source": [
    "# storey_range\n",
    "df[\"storey_range\"]=df[\"storey_range\"].mask(df[\"storey_range\"]==\"L\", 0)\n",
    "df[\"storey_range\"]=df[\"storey_range\"].mask(df[\"storey_range\"]==\"M\", 1)\n",
    "df[\"storey_range\"]=df[\"storey_range\"].mask(df[\"storey_range\"]==\"H\", 2)"
   ]
  },
  {
   "cell_type": "code",
   "execution_count": 5,
   "id": "solved-arcade",
   "metadata": {},
   "outputs": [],
   "source": [
    "# exist_primary_school\n",
    "df[\"exist_primary_school\"]=df[\"exist_primary_school\"].mask(df[\"exist_primary_school\"]==False, 0)\n",
    "df[\"exist_primary_school\"]=df[\"exist_primary_school\"].mask(df[\"exist_primary_school\"]==True, 1)"
   ]
  },
  {
   "cell_type": "code",
   "execution_count": 6,
   "id": "intended-kingston",
   "metadata": {},
   "outputs": [],
   "source": [
    "# flat_type\n",
    "df[\"flat_type\"]=df[\"flat_type\"].mask(df[\"flat_type\"]==\"e\", 6)\n",
    "df[\"flat_type\"]=df[\"flat_type\"].mask(df[\"flat_type\"]==\"m\", 7)"
   ]
  },
  {
   "cell_type": "code",
   "execution_count": 7,
   "id": "common-romance",
   "metadata": {},
   "outputs": [
    {
     "data": {
      "text/html": [
       "<div>\n",
       "<style scoped>\n",
       "    .dataframe tbody tr th:only-of-type {\n",
       "        vertical-align: middle;\n",
       "    }\n",
       "\n",
       "    .dataframe tbody tr th {\n",
       "        vertical-align: top;\n",
       "    }\n",
       "\n",
       "    .dataframe thead th {\n",
       "        text-align: right;\n",
       "    }\n",
       "</style>\n",
       "<table border=\"1\" class=\"dataframe\">\n",
       "  <thead>\n",
       "    <tr style=\"text-align: right;\">\n",
       "      <th></th>\n",
       "      <th>month</th>\n",
       "      <th>flat_type</th>\n",
       "      <th>storey_range</th>\n",
       "      <th>floor_area_sqm</th>\n",
       "      <th>planning_area</th>\n",
       "      <th>remaining_lease</th>\n",
       "      <th>price_per_sqm</th>\n",
       "      <th>nearest_mrt_distance</th>\n",
       "      <th>exist_primary_school</th>\n",
       "    </tr>\n",
       "  </thead>\n",
       "  <tbody>\n",
       "    <tr>\n",
       "      <th>0</th>\n",
       "      <td>2001-08</td>\n",
       "      <td>4</td>\n",
       "      <td>0</td>\n",
       "      <td>118.0</td>\n",
       "      <td>pasir ris</td>\n",
       "      <td>87</td>\n",
       "      <td>1777.118644</td>\n",
       "      <td>1137.523316</td>\n",
       "      <td>0</td>\n",
       "    </tr>\n",
       "    <tr>\n",
       "      <th>1</th>\n",
       "      <td>2014-10</td>\n",
       "      <td>5</td>\n",
       "      <td>2</td>\n",
       "      <td>110.0</td>\n",
       "      <td>punggol</td>\n",
       "      <td>88</td>\n",
       "      <td>3657.272727</td>\n",
       "      <td>823.554217</td>\n",
       "      <td>1</td>\n",
       "    </tr>\n",
       "    <tr>\n",
       "      <th>2</th>\n",
       "      <td>2020-09</td>\n",
       "      <td>5</td>\n",
       "      <td>0</td>\n",
       "      <td>112.0</td>\n",
       "      <td>sengkang</td>\n",
       "      <td>83</td>\n",
       "      <td>3133.928571</td>\n",
       "      <td>2230.703009</td>\n",
       "      <td>0</td>\n",
       "    </tr>\n",
       "    <tr>\n",
       "      <th>3</th>\n",
       "      <td>2000-10</td>\n",
       "      <td>3</td>\n",
       "      <td>1</td>\n",
       "      <td>67.0</td>\n",
       "      <td>clementi</td>\n",
       "      <td>79</td>\n",
       "      <td>2256.716418</td>\n",
       "      <td>423.320893</td>\n",
       "      <td>1</td>\n",
       "    </tr>\n",
       "    <tr>\n",
       "      <th>4</th>\n",
       "      <td>2013-01</td>\n",
       "      <td>3</td>\n",
       "      <td>1</td>\n",
       "      <td>73.0</td>\n",
       "      <td>bukit batok</td>\n",
       "      <td>71</td>\n",
       "      <td>4364.383562</td>\n",
       "      <td>774.220785</td>\n",
       "      <td>1</td>\n",
       "    </tr>\n",
       "  </tbody>\n",
       "</table>\n",
       "</div>"
      ],
      "text/plain": [
       "     month flat_type storey_range  floor_area_sqm planning_area  \\\n",
       "0  2001-08         4            0           118.0     pasir ris   \n",
       "1  2014-10         5            2           110.0       punggol   \n",
       "2  2020-09         5            0           112.0      sengkang   \n",
       "3  2000-10         3            1            67.0      clementi   \n",
       "4  2013-01         3            1            73.0   bukit batok   \n",
       "\n",
       "   remaining_lease  price_per_sqm  nearest_mrt_distance exist_primary_school  \n",
       "0               87    1777.118644           1137.523316                    0  \n",
       "1               88    3657.272727            823.554217                    1  \n",
       "2               83    3133.928571           2230.703009                    0  \n",
       "3               79    2256.716418            423.320893                    1  \n",
       "4               71    4364.383562            774.220785                    1  "
      ]
     },
     "execution_count": 7,
     "metadata": {},
     "output_type": "execute_result"
    }
   ],
   "source": [
    "df.head()"
   ]
  },
  {
   "cell_type": "code",
   "execution_count": 8,
   "id": "expanded-ghana",
   "metadata": {},
   "outputs": [
    {
     "name": "stdout",
     "output_type": "stream",
     "text": [
      "<class 'pandas.core.frame.DataFrame'>\n",
      "RangeIndex: 431732 entries, 0 to 431731\n",
      "Data columns (total 9 columns):\n",
      " #   Column                Non-Null Count   Dtype  \n",
      "---  ------                --------------   -----  \n",
      " 0   month                 431732 non-null  object \n",
      " 1   flat_type             431732 non-null  object \n",
      " 2   storey_range          431732 non-null  object \n",
      " 3   floor_area_sqm        431732 non-null  float64\n",
      " 4   planning_area         431732 non-null  object \n",
      " 5   remaining_lease       431732 non-null  int64  \n",
      " 6   price_per_sqm         431732 non-null  float64\n",
      " 7   nearest_mrt_distance  431732 non-null  float64\n",
      " 8   exist_primary_school  431732 non-null  object \n",
      "dtypes: float64(3), int64(1), object(5)\n",
      "memory usage: 29.6+ MB\n"
     ]
    }
   ],
   "source": [
    "df.info()"
   ]
  },
  {
   "cell_type": "code",
   "execution_count": 9,
   "id": "residential-degree",
   "metadata": {},
   "outputs": [],
   "source": [
    "# planning_area\n",
    "# one hot encoding"
   ]
  },
  {
   "cell_type": "code",
   "execution_count": 10,
   "id": "promising-buffalo",
   "metadata": {},
   "outputs": [],
   "source": [
    "df['month'] = pd.to_datetime(df['month'])\n",
    "df['month'] = df['month'].apply(lambda x: x.value)"
   ]
  },
  {
   "cell_type": "code",
   "execution_count": 11,
   "id": "bridal-jimmy",
   "metadata": {},
   "outputs": [],
   "source": [
    "df['flat_type'] = df['flat_type'].astype(str).str.strip().astype(int)\n",
    "df['storey_range'] = df['storey_range'].astype(str).str.strip().astype(int)\n",
    "df['exist_primary_school'] = df['exist_primary_school'].astype(str).str.strip().astype(int)"
   ]
  },
  {
   "cell_type": "code",
   "execution_count": 12,
   "id": "jewish-driver",
   "metadata": {},
   "outputs": [
    {
     "data": {
      "text/html": [
       "<div>\n",
       "<style scoped>\n",
       "    .dataframe tbody tr th:only-of-type {\n",
       "        vertical-align: middle;\n",
       "    }\n",
       "\n",
       "    .dataframe tbody tr th {\n",
       "        vertical-align: top;\n",
       "    }\n",
       "\n",
       "    .dataframe thead th {\n",
       "        text-align: right;\n",
       "    }\n",
       "</style>\n",
       "<table border=\"1\" class=\"dataframe\">\n",
       "  <thead>\n",
       "    <tr style=\"text-align: right;\">\n",
       "      <th></th>\n",
       "      <th>month</th>\n",
       "      <th>flat_type</th>\n",
       "      <th>storey_range</th>\n",
       "      <th>floor_area_sqm</th>\n",
       "      <th>planning_area</th>\n",
       "      <th>remaining_lease</th>\n",
       "      <th>price_per_sqm</th>\n",
       "      <th>nearest_mrt_distance</th>\n",
       "      <th>exist_primary_school</th>\n",
       "    </tr>\n",
       "  </thead>\n",
       "  <tbody>\n",
       "    <tr>\n",
       "      <th>0</th>\n",
       "      <td>996624000000000000</td>\n",
       "      <td>4</td>\n",
       "      <td>0</td>\n",
       "      <td>118.0</td>\n",
       "      <td>pasir ris</td>\n",
       "      <td>87</td>\n",
       "      <td>1777.118644</td>\n",
       "      <td>1137.523316</td>\n",
       "      <td>0</td>\n",
       "    </tr>\n",
       "    <tr>\n",
       "      <th>1</th>\n",
       "      <td>1412121600000000000</td>\n",
       "      <td>5</td>\n",
       "      <td>2</td>\n",
       "      <td>110.0</td>\n",
       "      <td>punggol</td>\n",
       "      <td>88</td>\n",
       "      <td>3657.272727</td>\n",
       "      <td>823.554217</td>\n",
       "      <td>1</td>\n",
       "    </tr>\n",
       "    <tr>\n",
       "      <th>2</th>\n",
       "      <td>1598918400000000000</td>\n",
       "      <td>5</td>\n",
       "      <td>0</td>\n",
       "      <td>112.0</td>\n",
       "      <td>sengkang</td>\n",
       "      <td>83</td>\n",
       "      <td>3133.928571</td>\n",
       "      <td>2230.703009</td>\n",
       "      <td>0</td>\n",
       "    </tr>\n",
       "    <tr>\n",
       "      <th>3</th>\n",
       "      <td>970358400000000000</td>\n",
       "      <td>3</td>\n",
       "      <td>1</td>\n",
       "      <td>67.0</td>\n",
       "      <td>clementi</td>\n",
       "      <td>79</td>\n",
       "      <td>2256.716418</td>\n",
       "      <td>423.320893</td>\n",
       "      <td>1</td>\n",
       "    </tr>\n",
       "    <tr>\n",
       "      <th>4</th>\n",
       "      <td>1356998400000000000</td>\n",
       "      <td>3</td>\n",
       "      <td>1</td>\n",
       "      <td>73.0</td>\n",
       "      <td>bukit batok</td>\n",
       "      <td>71</td>\n",
       "      <td>4364.383562</td>\n",
       "      <td>774.220785</td>\n",
       "      <td>1</td>\n",
       "    </tr>\n",
       "  </tbody>\n",
       "</table>\n",
       "</div>"
      ],
      "text/plain": [
       "                 month  flat_type  storey_range  floor_area_sqm planning_area  \\\n",
       "0   996624000000000000          4             0           118.0     pasir ris   \n",
       "1  1412121600000000000          5             2           110.0       punggol   \n",
       "2  1598918400000000000          5             0           112.0      sengkang   \n",
       "3   970358400000000000          3             1            67.0      clementi   \n",
       "4  1356998400000000000          3             1            73.0   bukit batok   \n",
       "\n",
       "   remaining_lease  price_per_sqm  nearest_mrt_distance  exist_primary_school  \n",
       "0               87    1777.118644           1137.523316                     0  \n",
       "1               88    3657.272727            823.554217                     1  \n",
       "2               83    3133.928571           2230.703009                     0  \n",
       "3               79    2256.716418            423.320893                     1  \n",
       "4               71    4364.383562            774.220785                     1  "
      ]
     },
     "execution_count": 12,
     "metadata": {},
     "output_type": "execute_result"
    }
   ],
   "source": [
    "df.head()"
   ]
  },
  {
   "cell_type": "code",
   "execution_count": 13,
   "id": "engaging-theta",
   "metadata": {},
   "outputs": [
    {
     "name": "stdout",
     "output_type": "stream",
     "text": [
      "<class 'pandas.core.frame.DataFrame'>\n",
      "RangeIndex: 431732 entries, 0 to 431731\n",
      "Data columns (total 9 columns):\n",
      " #   Column                Non-Null Count   Dtype  \n",
      "---  ------                --------------   -----  \n",
      " 0   month                 431732 non-null  int64  \n",
      " 1   flat_type             431732 non-null  int64  \n",
      " 2   storey_range          431732 non-null  int64  \n",
      " 3   floor_area_sqm        431732 non-null  float64\n",
      " 4   planning_area         431732 non-null  object \n",
      " 5   remaining_lease       431732 non-null  int64  \n",
      " 6   price_per_sqm         431732 non-null  float64\n",
      " 7   nearest_mrt_distance  431732 non-null  float64\n",
      " 8   exist_primary_school  431732 non-null  int64  \n",
      "dtypes: float64(3), int64(5), object(1)\n",
      "memory usage: 29.6+ MB\n"
     ]
    }
   ],
   "source": [
    "df.info()"
   ]
  },
  {
   "cell_type": "code",
   "execution_count": 14,
   "id": "european-works",
   "metadata": {},
   "outputs": [],
   "source": [
    "# Convert data to numpy arrays\n",
    "y = df[['price_per_sqm']].to_numpy().squeeze()\n",
    "X = df.drop(columns=['price_per_sqm', 'planning_area']).to_numpy()"
   ]
  },
  {
   "cell_type": "code",
   "execution_count": 15,
   "id": "satisfactory-exhibit",
   "metadata": {},
   "outputs": [
    {
     "data": {
      "text/plain": [
       "array([1777.11864407, 3657.27272727, 3133.92857143, ..., 3814.92537313,\n",
       "       4134.14634146, 1557.69230769])"
      ]
     },
     "execution_count": 15,
     "metadata": {},
     "output_type": "execute_result"
    }
   ],
   "source": [
    "y"
   ]
  },
  {
   "cell_type": "code",
   "execution_count": 16,
   "id": "retired-alberta",
   "metadata": {},
   "outputs": [
    {
     "data": {
      "text/plain": [
       "array([[9.96624000e+17, 4.00000000e+00, 0.00000000e+00, ...,\n",
       "        8.70000000e+01, 1.13752332e+03, 0.00000000e+00],\n",
       "       [1.41212160e+18, 5.00000000e+00, 2.00000000e+00, ...,\n",
       "        8.80000000e+01, 8.23554217e+02, 1.00000000e+00],\n",
       "       [1.59891840e+18, 5.00000000e+00, 0.00000000e+00, ...,\n",
       "        8.30000000e+01, 2.23070301e+03, 0.00000000e+00],\n",
       "       ...,\n",
       "       [1.29384000e+18, 3.00000000e+00, 0.00000000e+00, ...,\n",
       "        7.40000000e+01, 5.68873283e+02, 1.00000000e+00],\n",
       "       [1.36736640e+18, 5.00000000e+00, 2.00000000e+00, ...,\n",
       "        8.50000000e+01, 6.13929489e+02, 1.00000000e+00],\n",
       "       [1.18592640e+18, 4.00000000e+00, 0.00000000e+00, ...,\n",
       "        8.10000000e+01, 9.53334745e+02, 1.00000000e+00]])"
      ]
     },
     "execution_count": 16,
     "metadata": {},
     "output_type": "execute_result"
    }
   ],
   "source": [
    "X"
   ]
  },
  {
   "cell_type": "code",
   "execution_count": 17,
   "id": "fitting-ideal",
   "metadata": {},
   "outputs": [
    {
     "name": "stdout",
     "output_type": "stream",
     "text": [
      "Size of training set: 345385\n",
      "Size of test: 86347\n"
     ]
    }
   ],
   "source": [
    "# Split dataset in to training and test set\n",
    "X_train, X_test, y_train, y_test = train_test_split(X, y, test_size=0.2, random_state=0)\n",
    "\n",
    "print(\"Size of training set: {}\".format(len(X_train)))\n",
    "print(\"Size of test: {}\".format(len(X_test)))"
   ]
  },
  {
   "cell_type": "code",
   "execution_count": 18,
   "id": "turkish-gardening",
   "metadata": {},
   "outputs": [],
   "source": [
    "# We fit the scaler based on the training data only\n",
    "scaler = StandardScaler().fit(X_train)\n",
    "\n",
    "# Of course, we need to convert both training and test data\n",
    "X_train = scaler.transform(X_train)\n",
    "X_test = scaler.transform(X_test)"
   ]
  },
  {
   "cell_type": "code",
   "execution_count": 19,
   "id": "seasonal-discharge",
   "metadata": {},
   "outputs": [
    {
     "name": "stdout",
     "output_type": "stream",
     "text": [
      "Intercept: 3122.5464839153833, Coefficients: [ 816.22952272  275.15214714  137.76030724 -338.66438546   68.24147488\n",
      " -166.03220231  -42.48118165]\n"
     ]
    }
   ],
   "source": [
    "linreg = LinearRegression(fit_intercept=True).fit(X_train, y_train)\n",
    "\n",
    "print('Intercept: {}, Coefficients: {}'.format(linreg.intercept_, linreg.coef_))"
   ]
  },
  {
   "cell_type": "code",
   "execution_count": 20,
   "id": "stone-airplane",
   "metadata": {},
   "outputs": [],
   "source": [
    "y_pred = linreg.predict(X_test)"
   ]
  },
  {
   "cell_type": "code",
   "execution_count": 21,
   "id": "legitimate-model",
   "metadata": {},
   "outputs": [],
   "source": [
    "mse = mean_squared_error(y_test, y_pred)"
   ]
  },
  {
   "cell_type": "code",
   "execution_count": 22,
   "id": "experienced-parts",
   "metadata": {},
   "outputs": [
    {
     "name": "stdout",
     "output_type": "stream",
     "text": [
      "574344.427767999\n"
     ]
    }
   ],
   "source": [
    "print(mse)"
   ]
  },
  {
   "cell_type": "code",
   "execution_count": null,
   "id": "working-footwear",
   "metadata": {},
   "outputs": [],
   "source": []
  }
 ],
 "metadata": {
  "kernelspec": {
   "display_name": "Python 3",
   "language": "python",
   "name": "python3"
  },
  "language_info": {
   "codemirror_mode": {
    "name": "ipython",
    "version": 3
   },
   "file_extension": ".py",
   "mimetype": "text/x-python",
   "name": "python",
   "nbconvert_exporter": "python",
   "pygments_lexer": "ipython3",
   "version": "3.7.10"
  }
 },
 "nbformat": 4,
 "nbformat_minor": 5
}
